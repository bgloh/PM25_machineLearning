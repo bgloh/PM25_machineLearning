{
 "cells": [
  {
   "cell_type": "markdown",
   "metadata": {},
   "source": [
    "## PM2.5 Regression\n",
    "The objective of this study is to calibrate a portable PM2.5 measurement device.\n",
    "\n",
    "Main topics includes:\n",
    "- Calibration of Portable PM2.5 Measuring Device\n",
    "\n",
    "\n",
    "Last edited on 5/31/2018\n"
   ]
  },
  {
   "cell_type": "code",
   "execution_count": 1,
   "metadata": {
    "collapsed": false
   },
   "outputs": [],
   "source": [
    "import pandas as pd\n",
    "import numpy as np\n",
    "from sklearn.model_selection import train_test_split\n",
    "from sklearn.linear_model import LinearRegression\n",
    "from sklearn.metrics import mean_squared_error\n",
    "import math\n",
    "import matplotlib.pyplot as plt\n",
    "from sklearn.ensemble import RandomForestRegressor\n",
    "\n",
    "# set precision of floating point number\n",
    "%precision 2\n",
    "\n",
    "# plot settings\n",
    "plotFontSize = 12\n",
    "\n",
    "# Disable core warning message from Tensorflow\n",
    "import os\n",
    "#os.environ['TF_CPP_MIN_LOG_LEVEL']='2'\n",
    "\n",
    "# for consistent results\n",
    "#np.random.seed(10)\n",
    "#from tensorflow import set_random_seed\n",
    "#set_random_seed(20) # set random\n",
    "\n",
    "from sklearn.metrics import r2_score\n",
    "from scipy.stats import spearmanr, pearsonr\n",
    "\n"
   ]
  },
  {
   "cell_type": "markdown",
   "metadata": {},
   "source": [
    "### Read data"
   ]
  },
  {
   "cell_type": "code",
   "execution_count": 2,
   "metadata": {
    "collapsed": false
   },
   "outputs": [
    {
     "data": {
      "text/html": [
       "<div>\n",
       "<table border=\"1\" class=\"dataframe\">\n",
       "  <thead>\n",
       "    <tr style=\"text-align: right;\">\n",
       "      <th></th>\n",
       "      <th>hour</th>\n",
       "      <th>date</th>\n",
       "      <th>temperature</th>\n",
       "      <th>humidity</th>\n",
       "      <th>Sharp measured voltage[mv]</th>\n",
       "      <th>measurement of certified station</th>\n",
       "      <th>Sharp PM2.5</th>\n",
       "      <th>error</th>\n",
       "    </tr>\n",
       "  </thead>\n",
       "  <tbody>\n",
       "    <tr>\n",
       "      <th>0</th>\n",
       "      <td>1</td>\n",
       "      <td>2016-10-18:15</td>\n",
       "      <td>24.4</td>\n",
       "      <td>59.8</td>\n",
       "      <td>79.5</td>\n",
       "      <td>25</td>\n",
       "      <td>29.1</td>\n",
       "      <td>16.4%</td>\n",
       "    </tr>\n",
       "    <tr>\n",
       "      <th>1</th>\n",
       "      <td>2</td>\n",
       "      <td>2016-10-18:16</td>\n",
       "      <td>24.7</td>\n",
       "      <td>58.5</td>\n",
       "      <td>78.3</td>\n",
       "      <td>32</td>\n",
       "      <td>28.6</td>\n",
       "      <td>10.5%</td>\n",
       "    </tr>\n",
       "    <tr>\n",
       "      <th>2</th>\n",
       "      <td>3</td>\n",
       "      <td>2016-10-18:17</td>\n",
       "      <td>23.8</td>\n",
       "      <td>62.0</td>\n",
       "      <td>78.2</td>\n",
       "      <td>28</td>\n",
       "      <td>28.6</td>\n",
       "      <td>2.2%</td>\n",
       "    </tr>\n",
       "    <tr>\n",
       "      <th>3</th>\n",
       "      <td>4</td>\n",
       "      <td>2016-10-18:18</td>\n",
       "      <td>21.9</td>\n",
       "      <td>68.0</td>\n",
       "      <td>77.6</td>\n",
       "      <td>25</td>\n",
       "      <td>28.4</td>\n",
       "      <td>13.5%</td>\n",
       "    </tr>\n",
       "    <tr>\n",
       "      <th>4</th>\n",
       "      <td>5</td>\n",
       "      <td>2016-10-18:19</td>\n",
       "      <td>19.8</td>\n",
       "      <td>76.9</td>\n",
       "      <td>74.3</td>\n",
       "      <td>27</td>\n",
       "      <td>27.2</td>\n",
       "      <td>0.6%</td>\n",
       "    </tr>\n",
       "  </tbody>\n",
       "</table>\n",
       "</div>"
      ],
      "text/plain": [
       "   hour           date  temperature  humidity  Sharp measured voltage[mv]  \\\n",
       "0     1  2016-10-18:15         24.4      59.8                        79.5   \n",
       "1     2  2016-10-18:16         24.7      58.5                        78.3   \n",
       "2     3  2016-10-18:17         23.8      62.0                        78.2   \n",
       "3     4  2016-10-18:18         21.9      68.0                        77.6   \n",
       "4     5  2016-10-18:19         19.8      76.9                        74.3   \n",
       "\n",
       "   measurement of certified station  Sharp PM2.5  error  \n",
       "0                                25         29.1  16.4%  \n",
       "1                                32         28.6  10.5%  \n",
       "2                                28         28.6   2.2%  \n",
       "3                                25         28.4  13.5%  \n",
       "4                                27         27.2   0.6%  "
      ]
     },
     "execution_count": 2,
     "metadata": {},
     "output_type": "execute_result"
    }
   ],
   "source": [
    "datafile_csv = './csv/ShowPaperData-correlationData_Sungbukgu.csv'\n",
    "data = pd.read_csv(datafile_csv) # raw pandas dataframe\n",
    "data.head()"
   ]
  },
  {
   "cell_type": "markdown",
   "metadata": {
    "variables": {
     "for i in data.keys().values:print('%s ,'%i)": "<p><strong>NameError</strong>: name &#39;data&#39; is not defined</p>\n"
    }
   },
   "source": [
    "#### Explanation of data keys\n",
    "\n",
    "**data keys** : {{for i in data.keys().values:print('%s ,'%i)}}\n",
    "\n",
    "The units of temperature and humidity are in degree Celcius and %.\n",
    "\n",
    "Explanation of data headers\n",
    "\n",
    "- Sharp measured voltage[mv] : Voltage measured by Portable PM2.5 Measuring Device.\n",
    "- measurement of certificed station : PM2.5 measurement from government station(Sungbuk station) in $\\mu g / m^3$\n",
    "- Sharp PM2.5 : conversion of `Sharp measured voltage[mv]` to $\\mu g /m^3$ using **linear regression**.\n",
    "- error : deviataion of Sharp PM2.5 from measurement of certified station in %\n",
    "\n",
    "**Rename data keys**\n",
    "Sharp measured voltage[mv] : mpd (measurement of portable device)\n",
    "measurement of certified station : mcs (measurement of certified station)"
   ]
  },
  {
   "cell_type": "code",
   "execution_count": 3,
   "metadata": {
    "collapsed": false
   },
   "outputs": [
    {
     "data": {
      "text/plain": [
       "Index(['hour', 'date', 'temperature', 'humidity', 'mpd', 'mcs', 'Sharp PM2.5',\n",
       "       'error'],\n",
       "      dtype='object')"
      ]
     },
     "execution_count": 3,
     "metadata": {},
     "output_type": "execute_result"
    }
   ],
   "source": [
    "data.rename(columns={'Sharp measured voltage[mv]':'mpd'}, inplace=True)\n",
    "data.rename(columns={'measurement of certified station':'mcs'}, inplace=True)\n",
    "data.keys()"
   ]
  },
  {
   "cell_type": "markdown",
   "metadata": {},
   "source": [
    "#### data analysis\n",
    "histogram of measurements of government certified station at Sungbuk-Gu. Distribution of data indicates that number of data at relatively higher concentration is small."
   ]
  },
  {
   "cell_type": "code",
   "execution_count": 4,
   "metadata": {
    "collapsed": false
   },
   "outputs": [
    {
     "data": {
      "image/png": "[encoded data removed]",
      "text/plain": [
       "<matplotlib.figure.Figure at 0x7f6beeaf9e48>"
      ]
     },
     "metadata": {},
     "output_type": "display_data"
    }
   ],
   "source": [
    "# the histogram of the data\n",
    "histogramData = data['mcs']\n",
    "n, bins, patches = plt.hist(histogramData, 10, normed=1, facecolor='green', alpha=0.75)\n",
    "kk=[1,2,3]\n",
    "plt.xlabel('PM2.5 concentration [$\\mu g /m^3$]')\n",
    "plt.ylabel('Probability')\n",
    "plt.title('histogram of ' + '%s'%(histogramData.name))\n",
    "#plt.axis([0, 160, 0, 0.03])\n",
    "plt.grid(True)\n",
    "plt.show()"
   ]
  },
  {
   "cell_type": "markdown",
   "metadata": {
    "collapsed": false
   },
   "source": [
    "#### Data Descriptive Statistics"
   ]
  },
  {
   "cell_type": "code",
   "execution_count": 5,
   "metadata": {
    "collapsed": false
   },
   "outputs": [
    {
     "data": {
      "text/html": [
       "<div>\n",
       "<table border=\"1\" class=\"dataframe\">\n",
       "  <thead>\n",
       "    <tr style=\"text-align: right;\">\n",
       "      <th></th>\n",
       "      <th>hour</th>\n",
       "      <th>temperature</th>\n",
       "      <th>humidity</th>\n",
       "      <th>mpd</th>\n",
       "      <th>mcs</th>\n",
       "      <th>Sharp PM2.5</th>\n",
       "    </tr>\n",
       "  </thead>\n",
       "  <tbody>\n",
       "    <tr>\n",
       "      <th>count</th>\n",
       "      <td>319.000000</td>\n",
       "      <td>319.000000</td>\n",
       "      <td>319.000000</td>\n",
       "      <td>319.000000</td>\n",
       "      <td>319.000000</td>\n",
       "      <td>319.000000</td>\n",
       "    </tr>\n",
       "    <tr>\n",
       "      <th>mean</th>\n",
       "      <td>165.012539</td>\n",
       "      <td>16.517555</td>\n",
       "      <td>71.013793</td>\n",
       "      <td>49.938558</td>\n",
       "      <td>18.163009</td>\n",
       "      <td>18.167085</td>\n",
       "    </tr>\n",
       "    <tr>\n",
       "      <th>std</th>\n",
       "      <td>96.149876</td>\n",
       "      <td>3.868475</td>\n",
       "      <td>17.849581</td>\n",
       "      <td>26.000844</td>\n",
       "      <td>11.629707</td>\n",
       "      <td>9.607335</td>\n",
       "    </tr>\n",
       "    <tr>\n",
       "      <th>min</th>\n",
       "      <td>1.000000</td>\n",
       "      <td>6.600000</td>\n",
       "      <td>18.700000</td>\n",
       "      <td>1.500000</td>\n",
       "      <td>1.000000</td>\n",
       "      <td>0.300000</td>\n",
       "    </tr>\n",
       "    <tr>\n",
       "      <th>25%</th>\n",
       "      <td>80.500000</td>\n",
       "      <td>13.900000</td>\n",
       "      <td>59.950000</td>\n",
       "      <td>30.450000</td>\n",
       "      <td>10.000000</td>\n",
       "      <td>10.950000</td>\n",
       "    </tr>\n",
       "    <tr>\n",
       "      <th>50%</th>\n",
       "      <td>166.000000</td>\n",
       "      <td>17.000000</td>\n",
       "      <td>72.700000</td>\n",
       "      <td>45.400000</td>\n",
       "      <td>15.000000</td>\n",
       "      <td>16.500000</td>\n",
       "    </tr>\n",
       "    <tr>\n",
       "      <th>75%</th>\n",
       "      <td>247.500000</td>\n",
       "      <td>19.050000</td>\n",
       "      <td>84.400000</td>\n",
       "      <td>61.850000</td>\n",
       "      <td>24.000000</td>\n",
       "      <td>22.550000</td>\n",
       "    </tr>\n",
       "    <tr>\n",
       "      <th>max</th>\n",
       "      <td>331.000000</td>\n",
       "      <td>24.700000</td>\n",
       "      <td>99.900000</td>\n",
       "      <td>122.600000</td>\n",
       "      <td>59.000000</td>\n",
       "      <td>45.000000</td>\n",
       "    </tr>\n",
       "  </tbody>\n",
       "</table>\n",
       "</div>"
      ],
      "text/plain": [
       "             hour  temperature    humidity         mpd         mcs  \\\n",
       "count  319.000000   319.000000  319.000000  319.000000  319.000000   \n",
       "mean   165.012539    16.517555   71.013793   49.938558   18.163009   \n",
       "std     96.149876     3.868475   17.849581   26.000844   11.629707   \n",
       "min      1.000000     6.600000   18.700000    1.500000    1.000000   \n",
       "25%     80.500000    13.900000   59.950000   30.450000   10.000000   \n",
       "50%    166.000000    17.000000   72.700000   45.400000   15.000000   \n",
       "75%    247.500000    19.050000   84.400000   61.850000   24.000000   \n",
       "max    331.000000    24.700000   99.900000  122.600000   59.000000   \n",
       "\n",
       "       Sharp PM2.5  \n",
       "count   319.000000  \n",
       "mean     18.167085  \n",
       "std       9.607335  \n",
       "min       0.300000  \n",
       "25%      10.950000  \n",
       "50%      16.500000  \n",
       "75%      22.550000  \n",
       "max      45.000000  "
      ]
     },
     "execution_count": 5,
     "metadata": {},
     "output_type": "execute_result"
    }
   ],
   "source": [
    "data.describe()"
   ]
  },
  {
   "cell_type": "markdown",
   "metadata": {},
   "source": [
    "#### Sort data "
   ]
  },
  {
   "cell_type": "code",
   "execution_count": 6,
   "metadata": {
    "collapsed": false
   },
   "outputs": [],
   "source": [
    "# sort data\n",
    "#data.sort_values(by=['Sharp measured voltage[mv]'],ascending=True, inplace=True)\n",
    "#data.head(5)"
   ]
  },
  {
   "cell_type": "markdown",
   "metadata": {},
   "source": [
    "#### Preparing input and output\n",
    "Input1 (X) : [temparature, humidity, Sharp-measured-voltage]<br>\n",
    "Input2 (Xc) : Sharp-measured-voltage<br>\n",
    "Output(y) : measurement of certified station (Sungbuk station)<br>\n",
    "We will consider two cases for inputs; For the case 1, the input1 includes temperature, humidity, and Sharp-measured-voltage and for the case 2, the input2, only the Sharp-measured-voltage is considered."
   ]
  },
  {
   "cell_type": "code",
   "execution_count": 7,
   "metadata": {
    "collapsed": false
   },
   "outputs": [],
   "source": [
    "X  = data.loc[:,{'temperature','humidity','mpd'}]\n",
    "Xc = data['mpd'] # measurement of portable device\n",
    "y  = data['mcs'] # measurement of certified station"
   ]
  },
  {
   "cell_type": "code",
   "execution_count": 8,
   "metadata": {
    "collapsed": false
   },
   "outputs": [],
   "source": [
    "#reshape single feature by first converting Pandas DataFrame into Numpy array\n",
    "Xc = Xc.values.reshape(-1,1)"
   ]
  },
  {
   "cell_type": "markdown",
   "metadata": {},
   "source": [
    "Seaborn Pairwise plot"
   ]
  },
  {
   "cell_type": "code",
   "execution_count": 9,
   "metadata": {
    "collapsed": false
   },
   "outputs": [
    {
     "data": {
      "image/png": "[encoded data removed]",
      "text/plain": [
       "<matplotlib.figure.Figure at 0x7f6bea4c4160>"
      ]
     },
     "metadata": {},
     "output_type": "display_data"
    }
   ],
   "source": [
    "import seaborn as sns\n",
    "pairplotData = data[['temperature','humidity','mpd','mcs']]\n",
    "#sns.pairplot(pairplotData,hue='hospital stay class')\n",
    "sns.pairplot(pairplotData)\n",
    "saveFig = True\n",
    "if saveFig == True:\n",
    "    plt.savefig('./fig_Regression/pm25_pairplot.png', dpi=600,bbox_inches='tight')\n",
    "sns.plt.show()"
   ]
  },
  {
   "cell_type": "markdown",
   "metadata": {},
   "source": [
    "### Split data into train and test"
   ]
  },
  {
   "cell_type": "code",
   "execution_count": 10,
   "metadata": {
    "collapsed": false
   },
   "outputs": [],
   "source": [
    "X_train, X_test, y_train, y_test = train_test_split(X, y, test_size=0.2)"
   ]
  },
  {
   "cell_type": "markdown",
   "metadata": {},
   "source": [
    "Single input and single output"
   ]
  },
  {
   "cell_type": "code",
   "execution_count": 11,
   "metadata": {
    "collapsed": false
   },
   "outputs": [],
   "source": [
    "Xc_train, Xc_test, yc_train, yc_test = train_test_split(Xc, y, test_size=0.2)"
   ]
  },
  {
   "cell_type": "code",
   "execution_count": 12,
   "metadata": {
    "collapsed": false
   },
   "outputs": [
    {
     "name": "stdout",
     "output_type": "stream",
     "text": [
      "/home/brian/Dropbox/2017 Sabbatical-Temple univ/PM2-5/Jupyter_notebook\r\n"
     ]
    }
   ],
   "source": [
    "!pwd"
   ]
  },
  {
   "cell_type": "markdown",
   "metadata": {},
   "source": [
    "### Standardization of data\n",
    "<span style:'color=blue'> Just for reference, standardized data is not being used. </span>"
   ]
  },
  {
   "cell_type": "code",
   "execution_count": 13,
   "metadata": {
    "collapsed": false
   },
   "outputs": [],
   "source": [
    "from sklearn.preprocessing import StandardScaler\n",
    "scalerS = StandardScaler().fit(X_train)\n",
    "X_train_std_scaled = pd.DataFrame(scalerS.transform(X_train), index=X_train.index.values, columns=X_train.columns.values)\n",
    "X_test_std_scaled = pd.DataFrame(scalerS.transform(X_test), index=X_test.index.values, columns=X_test.columns.values)"
   ]
  },
  {
   "cell_type": "code",
   "execution_count": 14,
   "metadata": {
    "collapsed": false
   },
   "outputs": [
    {
     "data": {
      "text/html": [
       "<div>\n",
       "<table border=\"1\" class=\"dataframe\">\n",
       "  <thead>\n",
       "    <tr style=\"text-align: right;\">\n",
       "      <th></th>\n",
       "      <th>mpd</th>\n",
       "      <th>humidity</th>\n",
       "      <th>temperature</th>\n",
       "    </tr>\n",
       "  </thead>\n",
       "  <tbody>\n",
       "    <tr>\n",
       "      <th>271</th>\n",
       "      <td>-1.804493</td>\n",
       "      <td>-1.078751</td>\n",
       "      <td>-2.428615</td>\n",
       "    </tr>\n",
       "    <tr>\n",
       "      <th>56</th>\n",
       "      <td>-0.090190</td>\n",
       "      <td>0.171492</td>\n",
       "      <td>0.882194</td>\n",
       "    </tr>\n",
       "    <tr>\n",
       "      <th>1</th>\n",
       "      <td>1.106013</td>\n",
       "      <td>-0.650740</td>\n",
       "      <td>2.061042</td>\n",
       "    </tr>\n",
       "    <tr>\n",
       "      <th>64</th>\n",
       "      <td>-0.318763</td>\n",
       "      <td>0.374234</td>\n",
       "      <td>0.430720</td>\n",
       "    </tr>\n",
       "    <tr>\n",
       "      <th>108</th>\n",
       "      <td>-0.497813</td>\n",
       "      <td>-0.087568</td>\n",
       "      <td>0.656457</td>\n",
       "    </tr>\n",
       "    <tr>\n",
       "      <th>138</th>\n",
       "      <td>-0.372097</td>\n",
       "      <td>-0.571896</td>\n",
       "      <td>0.631375</td>\n",
       "    </tr>\n",
       "    <tr>\n",
       "      <th>297</th>\n",
       "      <td>-0.421622</td>\n",
       "      <td>0.222177</td>\n",
       "      <td>-0.898620</td>\n",
       "    </tr>\n",
       "    <tr>\n",
       "      <th>244</th>\n",
       "      <td>-1.118772</td>\n",
       "      <td>-0.830955</td>\n",
       "      <td>-1.174521</td>\n",
       "    </tr>\n",
       "    <tr>\n",
       "      <th>166</th>\n",
       "      <td>-0.219715</td>\n",
       "      <td>0.971196</td>\n",
       "      <td>0.179901</td>\n",
       "    </tr>\n",
       "    <tr>\n",
       "      <th>178</th>\n",
       "      <td>0.096479</td>\n",
       "      <td>1.680793</td>\n",
       "      <td>-0.622719</td>\n",
       "    </tr>\n",
       "    <tr>\n",
       "      <th>10</th>\n",
       "      <td>1.254586</td>\n",
       "      <td>1.247151</td>\n",
       "      <td>0.179901</td>\n",
       "    </tr>\n",
       "    <tr>\n",
       "      <th>4</th>\n",
       "      <td>0.953631</td>\n",
       "      <td>0.385497</td>\n",
       "      <td>0.832030</td>\n",
       "    </tr>\n",
       "    <tr>\n",
       "      <th>267</th>\n",
       "      <td>-1.316869</td>\n",
       "      <td>-1.686977</td>\n",
       "      <td>-2.077468</td>\n",
       "    </tr>\n",
       "    <tr>\n",
       "      <th>240</th>\n",
       "      <td>-0.360669</td>\n",
       "      <td>-0.031251</td>\n",
       "      <td>-0.672883</td>\n",
       "    </tr>\n",
       "    <tr>\n",
       "      <th>197</th>\n",
       "      <td>0.610770</td>\n",
       "      <td>0.937406</td>\n",
       "      <td>-0.873538</td>\n",
       "    </tr>\n",
       "    <tr>\n",
       "      <th>252</th>\n",
       "      <td>-0.821626</td>\n",
       "      <td>-1.287125</td>\n",
       "      <td>-0.748129</td>\n",
       "    </tr>\n",
       "    <tr>\n",
       "      <th>72</th>\n",
       "      <td>0.271719</td>\n",
       "      <td>-0.667635</td>\n",
       "      <td>1.785142</td>\n",
       "    </tr>\n",
       "    <tr>\n",
       "      <th>79</th>\n",
       "      <td>0.149813</td>\n",
       "      <td>0.092647</td>\n",
       "      <td>0.832030</td>\n",
       "    </tr>\n",
       "    <tr>\n",
       "      <th>251</th>\n",
       "      <td>-0.954960</td>\n",
       "      <td>-1.320915</td>\n",
       "      <td>-0.873538</td>\n",
       "    </tr>\n",
       "    <tr>\n",
       "      <th>123</th>\n",
       "      <td>-0.817816</td>\n",
       "      <td>0.379865</td>\n",
       "      <td>-0.572555</td>\n",
       "    </tr>\n",
       "    <tr>\n",
       "      <th>29</th>\n",
       "      <td>1.486970</td>\n",
       "      <td>0.864194</td>\n",
       "      <td>0.681539</td>\n",
       "    </tr>\n",
       "    <tr>\n",
       "      <th>211</th>\n",
       "      <td>0.081241</td>\n",
       "      <td>0.013803</td>\n",
       "      <td>0.706621</td>\n",
       "    </tr>\n",
       "    <tr>\n",
       "      <th>228</th>\n",
       "      <td>0.005050</td>\n",
       "      <td>0.419287</td>\n",
       "      <td>0.405638</td>\n",
       "    </tr>\n",
       "    <tr>\n",
       "      <th>76</th>\n",
       "      <td>0.203147</td>\n",
       "      <td>-0.048146</td>\n",
       "      <td>1.107931</td>\n",
       "    </tr>\n",
       "    <tr>\n",
       "      <th>217</th>\n",
       "      <td>0.130765</td>\n",
       "      <td>0.717769</td>\n",
       "      <td>0.305310</td>\n",
       "    </tr>\n",
       "    <tr>\n",
       "      <th>242</th>\n",
       "      <td>-0.855912</td>\n",
       "      <td>-0.431103</td>\n",
       "      <td>-0.973866</td>\n",
       "    </tr>\n",
       "    <tr>\n",
       "      <th>7</th>\n",
       "      <td>1.090775</td>\n",
       "      <td>0.971196</td>\n",
       "      <td>0.355474</td>\n",
       "    </tr>\n",
       "    <tr>\n",
       "      <th>224</th>\n",
       "      <td>0.138384</td>\n",
       "      <td>1.421734</td>\n",
       "      <td>-0.070918</td>\n",
       "    </tr>\n",
       "    <tr>\n",
       "      <th>81</th>\n",
       "      <td>0.005050</td>\n",
       "      <td>0.109543</td>\n",
       "      <td>0.706621</td>\n",
       "    </tr>\n",
       "    <tr>\n",
       "      <th>95</th>\n",
       "      <td>0.424101</td>\n",
       "      <td>-0.447998</td>\n",
       "      <td>1.534323</td>\n",
       "    </tr>\n",
       "    <tr>\n",
       "      <th>...</th>\n",
       "      <td>...</td>\n",
       "      <td>...</td>\n",
       "      <td>...</td>\n",
       "    </tr>\n",
       "    <tr>\n",
       "      <th>223</th>\n",
       "      <td>0.085050</td>\n",
       "      <td>1.365417</td>\n",
       "      <td>-0.045836</td>\n",
       "    </tr>\n",
       "    <tr>\n",
       "      <th>47</th>\n",
       "      <td>2.130786</td>\n",
       "      <td>-0.357891</td>\n",
       "      <td>1.709896</td>\n",
       "    </tr>\n",
       "    <tr>\n",
       "      <th>135</th>\n",
       "      <td>-0.806387</td>\n",
       "      <td>0.030698</td>\n",
       "      <td>-0.422064</td>\n",
       "    </tr>\n",
       "    <tr>\n",
       "      <th>288</th>\n",
       "      <td>-1.274964</td>\n",
       "      <td>-1.168859</td>\n",
       "      <td>-1.726322</td>\n",
       "    </tr>\n",
       "    <tr>\n",
       "      <th>229</th>\n",
       "      <td>0.024097</td>\n",
       "      <td>-0.048146</td>\n",
       "      <td>0.656457</td>\n",
       "    </tr>\n",
       "    <tr>\n",
       "      <th>172</th>\n",
       "      <td>-0.212096</td>\n",
       "      <td>1.404839</td>\n",
       "      <td>-0.346819</td>\n",
       "    </tr>\n",
       "    <tr>\n",
       "      <th>300</th>\n",
       "      <td>-0.589242</td>\n",
       "      <td>-0.357891</td>\n",
       "      <td>-1.099275</td>\n",
       "    </tr>\n",
       "    <tr>\n",
       "      <th>277</th>\n",
       "      <td>-0.939722</td>\n",
       "      <td>-2.678161</td>\n",
       "      <td>-0.697965</td>\n",
       "    </tr>\n",
       "    <tr>\n",
       "      <th>67</th>\n",
       "      <td>-0.166381</td>\n",
       "      <td>0.002540</td>\n",
       "      <td>0.932358</td>\n",
       "    </tr>\n",
       "    <tr>\n",
       "      <th>308</th>\n",
       "      <td>-0.718767</td>\n",
       "      <td>-1.039329</td>\n",
       "      <td>-0.472228</td>\n",
       "    </tr>\n",
       "    <tr>\n",
       "      <th>312</th>\n",
       "      <td>-1.054009</td>\n",
       "      <td>-1.112541</td>\n",
       "      <td>-1.049111</td>\n",
       "    </tr>\n",
       "    <tr>\n",
       "      <th>36</th>\n",
       "      <td>2.111738</td>\n",
       "      <td>1.528737</td>\n",
       "      <td>-0.070918</td>\n",
       "    </tr>\n",
       "    <tr>\n",
       "      <th>161</th>\n",
       "      <td>-0.436860</td>\n",
       "      <td>0.740296</td>\n",
       "      <td>0.355474</td>\n",
       "    </tr>\n",
       "    <tr>\n",
       "      <th>141</th>\n",
       "      <td>-0.128285</td>\n",
       "      <td>-0.954853</td>\n",
       "      <td>1.107931</td>\n",
       "    </tr>\n",
       "    <tr>\n",
       "      <th>6</th>\n",
       "      <td>1.292682</td>\n",
       "      <td>0.875457</td>\n",
       "      <td>0.430720</td>\n",
       "    </tr>\n",
       "    <tr>\n",
       "      <th>116</th>\n",
       "      <td>-0.615909</td>\n",
       "      <td>-0.008724</td>\n",
       "      <td>0.204983</td>\n",
       "    </tr>\n",
       "    <tr>\n",
       "      <th>60</th>\n",
       "      <td>-0.314954</td>\n",
       "      <td>0.312285</td>\n",
       "      <td>0.505966</td>\n",
       "    </tr>\n",
       "    <tr>\n",
       "      <th>59</th>\n",
       "      <td>-0.295906</td>\n",
       "      <td>0.267231</td>\n",
       "      <td>0.606293</td>\n",
       "    </tr>\n",
       "    <tr>\n",
       "      <th>213</th>\n",
       "      <td>0.058383</td>\n",
       "      <td>0.284126</td>\n",
       "      <td>0.531047</td>\n",
       "    </tr>\n",
       "    <tr>\n",
       "      <th>275</th>\n",
       "      <td>-1.339726</td>\n",
       "      <td>-2.098093</td>\n",
       "      <td>-1.400258</td>\n",
       "    </tr>\n",
       "    <tr>\n",
       "      <th>85</th>\n",
       "      <td>-0.166381</td>\n",
       "      <td>0.329180</td>\n",
       "      <td>0.531047</td>\n",
       "    </tr>\n",
       "    <tr>\n",
       "      <th>154</th>\n",
       "      <td>-0.265429</td>\n",
       "      <td>1.680793</td>\n",
       "      <td>-0.346819</td>\n",
       "    </tr>\n",
       "    <tr>\n",
       "      <th>26</th>\n",
       "      <td>2.793650</td>\n",
       "      <td>-0.487420</td>\n",
       "      <td>1.559405</td>\n",
       "    </tr>\n",
       "    <tr>\n",
       "      <th>247</th>\n",
       "      <td>-1.210201</td>\n",
       "      <td>-0.864746</td>\n",
       "      <td>-1.350094</td>\n",
       "    </tr>\n",
       "    <tr>\n",
       "      <th>147</th>\n",
       "      <td>-0.349240</td>\n",
       "      <td>-0.363522</td>\n",
       "      <td>0.581211</td>\n",
       "    </tr>\n",
       "    <tr>\n",
       "      <th>71</th>\n",
       "      <td>0.237433</td>\n",
       "      <td>-0.673267</td>\n",
       "      <td>1.785142</td>\n",
       "    </tr>\n",
       "    <tr>\n",
       "      <th>89</th>\n",
       "      <td>-0.033046</td>\n",
       "      <td>0.565712</td>\n",
       "      <td>0.330392</td>\n",
       "    </tr>\n",
       "    <tr>\n",
       "      <th>118</th>\n",
       "      <td>-0.707339</td>\n",
       "      <td>0.729032</td>\n",
       "      <td>-0.321737</td>\n",
       "    </tr>\n",
       "    <tr>\n",
       "      <th>249</th>\n",
       "      <td>-1.202582</td>\n",
       "      <td>-0.898536</td>\n",
       "      <td>-1.299930</td>\n",
       "    </tr>\n",
       "    <tr>\n",
       "      <th>236</th>\n",
       "      <td>-0.417812</td>\n",
       "      <td>-0.701426</td>\n",
       "      <td>-0.020754</td>\n",
       "    </tr>\n",
       "  </tbody>\n",
       "</table>\n",
       "<p>255 rows × 3 columns</p>\n",
       "</div>"
      ],
      "text/plain": [
       "          mpd  humidity  temperature\n",
       "271 -1.804493 -1.078751    -2.428615\n",
       "56  -0.090190  0.171492     0.882194\n",
       "1    1.106013 -0.650740     2.061042\n",
       "64  -0.318763  0.374234     0.430720\n",
       "108 -0.497813 -0.087568     0.656457\n",
       "138 -0.372097 -0.571896     0.631375\n",
       "297 -0.421622  0.222177    -0.898620\n",
       "244 -1.118772 -0.830955    -1.174521\n",
       "166 -0.219715  0.971196     0.179901\n",
       "178  0.096479  1.680793    -0.622719\n",
       "10   1.254586  1.247151     0.179901\n",
       "4    0.953631  0.385497     0.832030\n",
       "267 -1.316869 -1.686977    -2.077468\n",
       "240 -0.360669 -0.031251    -0.672883\n",
       "197  0.610770  0.937406    -0.873538\n",
       "252 -0.821626 -1.287125    -0.748129\n",
       "72   0.271719 -0.667635     1.785142\n",
       "79   0.149813  0.092647     0.832030\n",
       "251 -0.954960 -1.320915    -0.873538\n",
       "123 -0.817816  0.379865    -0.572555\n",
       "29   1.486970  0.864194     0.681539\n",
       "211  0.081241  0.013803     0.706621\n",
       "228  0.005050  0.419287     0.405638\n",
       "76   0.203147 -0.048146     1.107931\n",
       "217  0.130765  0.717769     0.305310\n",
       "242 -0.855912 -0.431103    -0.973866\n",
       "7    1.090775  0.971196     0.355474\n",
       "224  0.138384  1.421734    -0.070918\n",
       "81   0.005050  0.109543     0.706621\n",
       "95   0.424101 -0.447998     1.534323\n",
       "..        ...       ...          ...\n",
       "223  0.085050  1.365417    -0.045836\n",
       "47   2.130786 -0.357891     1.709896\n",
       "135 -0.806387  0.030698    -0.422064\n",
       "288 -1.274964 -1.168859    -1.726322\n",
       "229  0.024097 -0.048146     0.656457\n",
       "172 -0.212096  1.404839    -0.346819\n",
       "300 -0.589242 -0.357891    -1.099275\n",
       "277 -0.939722 -2.678161    -0.697965\n",
       "67  -0.166381  0.002540     0.932358\n",
       "308 -0.718767 -1.039329    -0.472228\n",
       "312 -1.054009 -1.112541    -1.049111\n",
       "36   2.111738  1.528737    -0.070918\n",
       "161 -0.436860  0.740296     0.355474\n",
       "141 -0.128285 -0.954853     1.107931\n",
       "6    1.292682  0.875457     0.430720\n",
       "116 -0.615909 -0.008724     0.204983\n",
       "60  -0.314954  0.312285     0.505966\n",
       "59  -0.295906  0.267231     0.606293\n",
       "213  0.058383  0.284126     0.531047\n",
       "275 -1.339726 -2.098093    -1.400258\n",
       "85  -0.166381  0.329180     0.531047\n",
       "154 -0.265429  1.680793    -0.346819\n",
       "26   2.793650 -0.487420     1.559405\n",
       "247 -1.210201 -0.864746    -1.350094\n",
       "147 -0.349240 -0.363522     0.581211\n",
       "71   0.237433 -0.673267     1.785142\n",
       "89  -0.033046  0.565712     0.330392\n",
       "118 -0.707339  0.729032    -0.321737\n",
       "249 -1.202582 -0.898536    -1.299930\n",
       "236 -0.417812 -0.701426    -0.020754\n",
       "\n",
       "[255 rows x 3 columns]"
      ]
     },
     "execution_count": 14,
     "metadata": {},
     "output_type": "execute_result"
    }
   ],
   "source": [
    "X_train_std_scaled"
   ]
  },
  {
   "cell_type": "markdown",
   "metadata": {},
   "source": [
    " plot of standardized data"
   ]
  },
  {
   "cell_type": "code",
   "execution_count": 15,
   "metadata": {
    "collapsed": false
   },
   "outputs": [
    {
     "data": {
      "image/png": "[encoded data removed]",
      "text/plain": [
       "<matplotlib.figure.Figure at 0x7f6be0e39940>"
      ]
     },
     "metadata": {},
     "output_type": "display_data"
    }
   ],
   "source": [
    "# the histogram of the data\n",
    "histogramData = X_train_std_scaled['mpd']\n",
    "n, bins, patches = plt.hist(histogramData, 10, normed=1, facecolor='green', alpha=0.75)\n",
    "plt.xlabel('PM2.5 concentration [$\\mu$g]')\n",
    "plt.ylabel('Probability')\n",
    "plt.title('$\\mathrm{Histogram\\ of\\ IQ:}\\ \\mu=**,\\ \\sigma=*$')\n",
    "#plt.axis([0, 160, 0, 0.03])\n",
    "plt.grid(True)\n",
    "plt.show()"
   ]
  },
  {
   "cell_type": "markdown",
   "metadata": {},
   "source": [
    "## MinMax Scaled Data"
   ]
  },
  {
   "cell_type": "code",
   "execution_count": 16,
   "metadata": {
    "collapsed": false
   },
   "outputs": [
    {
     "name": "stderr",
     "output_type": "stream",
     "text": [
      "/home/brian/anaconda3_1/lib/python3.6/site-packages/sklearn/utils/validation.py:429: DataConversionWarning: Data with input dtype int64 was converted to float64 by MinMaxScaler.\n",
      "  warnings.warn(msg, _DataConversionWarning)\n"
     ]
    }
   ],
   "source": [
    "from sklearn.preprocessing import MinMaxScaler\n",
    "# Input(Features) scaling\n",
    "scalerMx = MinMaxScaler().fit(X)\n",
    "X_train_mm_scaled = pd.DataFrame(scalerMx.transform(X_train), index=X_train.index.values, columns=X_train.columns.values)\n",
    "X_test_mm_scaled = pd.DataFrame(scalerMx.transform(X_test), index=X_test.index.values, columns=X_test.columns.values)\n",
    "\n",
    "\n",
    "# Output(Label) scaling\n",
    "scalerMy = MinMaxScaler().fit(y.values.reshape(-1,1))\n",
    "y_train_mm_scaled = pd.DataFrame(scalerMy.transform(y_train.values.reshape(-1,1)))\n",
    "y_test_mm_scaled = pd.DataFrame(scalerMy.transform(y_test.values.reshape(-1,1)))"
   ]
  },
  {
   "cell_type": "code",
   "execution_count": 17,
   "metadata": {
    "collapsed": false
   },
   "outputs": [],
   "source": [
    "scalerMx.transform(X_train);"
   ]
  },
  {
   "cell_type": "markdown",
   "metadata": {},
   "source": [
    "## statsmodels regression"
   ]
  },
  {
   "cell_type": "code",
   "execution_count": null,
   "metadata": {
    "collapsed": false
   },
   "outputs": [],
   "source": []
  },
  {
   "cell_type": "code",
   "execution_count": 18,
   "metadata": {
    "collapsed": false
   },
   "outputs": [
    {
     "name": "stdout",
     "output_type": "stream",
     "text": [
      "                            OLS Regression Results                            \n",
      "==============================================================================\n",
      "Dep. Variable:                    mcs   R-squared:                       0.772\n",
      "Model:                            OLS   Adj. R-squared:                  0.769\n",
      "Method:                 Least Squares   F-statistic:                     283.2\n",
      "Date:                Wed, 06 Jun 2018   Prob (F-statistic):           3.07e-80\n",
      "Time:                        10:44:23   Log-Likelihood:                -794.47\n",
      "No. Observations:                 255   AIC:                             1597.\n",
      "Df Residuals:                     251   BIC:                             1611.\n",
      "Df Model:                           3                                         \n",
      "Covariance Type:            nonrobust                                         \n",
      "===============================================================================\n",
      "                  coef    std err          t      P>|t|      [95.0% Conf. Int.]\n",
      "-------------------------------------------------------------------------------\n",
      "const          18.6060      2.018      9.218      0.000        14.631    22.581\n",
      "mpd             0.5019      0.019     25.786      0.000         0.464     0.540\n",
      "humidity       -0.1580      0.023     -6.751      0.000        -0.204    -0.112\n",
      "temperature    -0.8810      0.111     -7.935      0.000        -1.100    -0.662\n",
      "==============================================================================\n",
      "Omnibus:                       45.673   Durbin-Watson:                   2.105\n",
      "Prob(Omnibus):                  0.000   Jarque-Bera (JB):              110.301\n",
      "Skew:                           0.832   Prob(JB):                     1.12e-24\n",
      "Kurtosis:                       5.759   Cond. No.                         534.\n",
      "==============================================================================\n",
      "\n",
      "Warnings:\n",
      "[1] Standard Errors assume that the covariance matrix of the errors is correctly specified.\n",
      "********* variable inflaion factor ******************\n",
      "   vif factor     features\n",
      "0       34.35        const\n",
      "1        2.20          mpd\n",
      "2        1.46     humidity\n",
      "3        1.65  temperature\n",
      "*****************************************************\n",
      "mean of observation: 19.83\n",
      "root mean squared error:6.08, root-standard-deviation of squared error:8.59\n",
      "R2:0.77\n"
     ]
    },
    {
     "data": {
      "image/png": "[encoded data removed]",
      "text/plain": [
       "<matplotlib.figure.Figure at 0x7f6be9af91d0>"
      ]
     },
     "metadata": {},
     "output_type": "display_data"
    }
   ],
   "source": [
    "## import statsmodels.api as sm\n",
    "import statsmodels.api as sm\n",
    "from patsy import dmatrices\n",
    "from statsmodels.stats.outliers_influence import variance_inflation_factor\n",
    "\n",
    "xst_train = sm.add_constant(X_train) # including intercept\n",
    "xst_test = sm.add_constant(X_test)\n",
    "\n",
    "yst_train,yst_test = y_train, y_test\n",
    "# model\n",
    "stats_model = sm.OLS(yst_train, xst_train)\n",
    "# fit\n",
    "stats_model_results = stats_model.fit()\n",
    "# predict\n",
    "yst_prediction = stats_model_results.predict(xst_test)\n",
    "# print summary\n",
    "print(stats_model_results.summary())\n",
    "\n",
    "# calculate variance_inflation_factor\n",
    "vif = pd.DataFrame()\n",
    "vif['vif factor'] = [variance_inflation_factor(xst_train.values,i) \\\n",
    "                        for i in range(xst_train.shape[1]) ]\n",
    "vif['features'] = xst_train.columns\n",
    "print('********* variable inflaion factor ******************')\n",
    "print(vif.round(2))\n",
    "print('*****************************************************')\n",
    "\n",
    "\n",
    "\n",
    "# calculate RMS error\n",
    "f_error_squared = lambda x,y: (x-y)*(x-y)\n",
    "squared_error_st = f_error_squared(y_test,yst_prediction)\n",
    "# mean\n",
    "mse_st = squared_error_st.mean()\n",
    "# standard deviation\n",
    "std_st = squared_error_st.std()\n",
    "# root mean squared error\n",
    "rmse_st = np.sqrt(mse_st)\n",
    "# root standard deviation of squared error\n",
    "rstd_st = np.sqrt(std_st)\n",
    "\n",
    "std_squared_error_st=f_error_squared(y_test,yst_prediction).std()\n",
    "\n",
    "print('mean of observation: %.2f' %(np.mean(y_test)))\n",
    "print('root mean squared error:%.2f, root-standard-deviation of squared error:%.2f' %(rmse_st,rstd_st))\n",
    "\n",
    "# R2\n",
    "print('R2:%.2f' %stats_model_results.rsquared)\n",
    "\n",
    "# prediction plot\n",
    "plt.figure(figsize=(12,6))\n",
    "#plt.plot(X_test.values[:,2], yst_prediction,'ro',markersize=10,label='prediction',alpha=0.8)\n",
    "#plt.plot(X_test.values[:,2],y_test,'ks',markersize=10,label='observation',alpha=0.5)\n",
    "plt.bar(yst_prediction,y_test-yst_prediction,width=0.2,alpha=0.5)\n",
    "plt.scatter(yst_prediction,y_test-yst_prediction,alpha=0.5)\n",
    "plt.plot([0,50],[0,0],'--b',lw=1)\n",
    "\n",
    "plt.grid(False)\n",
    "plt.xlabel('Prediction of Portable PM2.5 Measuring Device[$\\mu g / m^3$]')\n",
    "plt.ylabel('Residual(observation - prediction)[$\\mu g / m^3$]')\n",
    "plt.show()"
   ]
  },
  {
   "cell_type": "markdown",
   "metadata": {
    "variables": {
     "rmse_st": "<p><strong>NameError</strong>: name &#39;rmse_st&#39; is not defined</p>\n",
     "rmse_st/np.mean(y_test)*100": "<p><strong>NameError</strong>: name &#39;rmse_st&#39; is not defined</p>\n"
    }
   },
   "source": [
    "**Prediction root-mean-square(rms) error** is {{rmse_st/np.mean(y_test)*100}} % of rms mean of test observation({{rmse_st}})."
   ]
  },
  {
   "cell_type": "code",
   "execution_count": 19,
   "metadata": {
    "collapsed": false
   },
   "outputs": [
    {
     "data": {
      "image/png": "[encoded data removed]",
      "text/plain": [
       "<matplotlib.figure.Figure at 0x7f6bea1b1be0>"
      ]
     },
     "metadata": {},
     "output_type": "display_data"
    }
   ],
   "source": [
    "plt.plot(y_test.values, yst_prediction,'ro');plt.plot([0,60],[0,60],'--k');\n",
    "plt.xlabel('prediction [$\\mu g/m^3$]');plt.ylabel('observation [$\\mu g/m^3$]')\n",
    "r2s =r2_score(y_true=y_test, y_pred=yst_prediction)\n",
    "plt.title('$R^2$:%.2f'%r2s)\n",
    "plt.grid()\n",
    "plt.show()\n",
    " "
   ]
  },
  {
   "cell_type": "code",
   "execution_count": null,
   "metadata": {
    "collapsed": false
   },
   "outputs": [],
   "source": []
  },
  {
   "cell_type": "markdown",
   "metadata": {},
   "source": [
    "### Understanding the Results of an Regression Analysis\n",
    "[Stats Model : statistics in Python](http://www.statsmodels.org/dev/examples/index.html#regression)\n",
    " \n",
    "#### Descriptive Statistics for Variables\n",
    "\n",
    "**statmodels** prints a variety of statistics at the end of each analysis. For each variable, NLREG lists the minimum value, the maximum value, the mean value, and the standard deviation. You should confirm that these values are within the ranges you expect.\n",
    "Parameter Estimates\n",
    "\n",
    "For each parameter, analysis displays the initial parameter estimate (which you specified on the PARAMETER statement, or 1 by default), the final (maximum likelihood) estimate, the standard error of the estimated parameter value, the \"t'' statistic comparing the estimated parameter value with zero, and the significance of the t statistic.  Nine significant digits are displayed for the parameter estimates.  If you need to determine the parameters to greater precision, use the POUTPUT statement.\n",
    " \n",
    "The final estimate parameter values are the results of the analysis. By substituting these values in the equation you specified to be fitted to the data, you will have a function that can be used to predict the value of the dependent variable based on a set of values for the independent variables.  For example, if the equation being fitted is\n",
    " \n",
    "** y = p0 + p1*x **\n",
    " \n",
    "and the final estimates are 1.5 for p0 and 3 for p1, then the equation\n",
    " \n",
    "**y = 1.5 + 3*x **\n",
    " \n",
    "is the best equation of this form that will predict the value of y based on the value of x.\n",
    " \n",
    "**t Statistic**\n",
    "\n",
    "The \"t'' statistic is computed by dividing the estimated value of the parameter by its standard error.  This statistic is a measure of the likelihood that the actual value of the parameter is not zero. The larger the absolute value of t, the less likely that the actual value of the parameter could be zero.\n",
    "Prob(t)\n",
    "\n",
    "** Prob(t) **\n",
    "\n",
    "The \"Prob(t)'' value is the probability of obtaining the estimated value of the parameter if the actual parameter value is zero.  The smaller the value of Prob(t), the more significant the parameter and the less likely that the actual parameter value is zero.  For example, assume the estimated value of a parameter is 1.0 and its standard error is 0.7.  Then the t value would be 1.43 (1.0/0.7).  If the computed Prob(t) value was 0.05 then this indicates that there is only a 0.05 (5%) chance that the actual value of the parameter could be zero.  If Prob(t) was 0.001 this indicates there is only 1 chance in 1000 that the parameter could be zero.  If Prob(t) was 0.92 this indicates that there is a 92% probability that the actual value of the parameter could be zero; this implies that the term of the regression equation containing the parameter can be eliminated without significantly affecting the accuracy of the regression.\n",
    " \n",
    "One thing that can cause Prob(t) to be 1.00 (or near 1.00) is having redundant parameters.  If at the end of an analysis several parameters have Prob(t) values of 1.00, check the function carefully to see if one or more of the parameters can be removed. Also try using a DOUBLE statement to set one or more of the parameters to a reasonable fixed value; if the other parameters suddenly become significant (i.e., Prob(t) much less than 1.00) then the parameters are mutually dependent and one or more should be removed.\n",
    " \n",
    "The t statistic probability is computed using a two-sided test.  The CONFIDENCE statement can be used to cause NLREG to print confidence intervals for parameter values.  The SQUARE.NLR example regression includes an extraneous parameter (p0) whose estimated value is much smaller than its standard error; the Prob(t) value is 0.99982 indicating that there is a high probability that the value is zero.\n",
    "Final Sum of Squared Deviations\n",
    "\n",
    "In addition to the variable and parameter values, NLREG displays several statistics that indicate how well the equation fits the data.  The \"Final sum of squared deviations'' is the sum of the squared differences between the actual value of the dependent variable for each observation and the value predicted by the function, using the final parameter estimates.\n",
    "Average and Maximum Deviation\n",
    "\n",
    "** Average deviation ** \n",
    "\n",
    "The \"Average deviation'' is the average over all observations of the absolute value of the difference between the actual value of the dependent variable and its predicted value.\n",
    "\n",
    "** Maximum deviation **\n",
    "\n",
    "The \"Maximum deviation for any observation'' is the maximum difference (ignoring sign) between the actual and predicted value of the dependent variable for any observation.\n",
    "Proportion of Variance Explained\n",
    "\n",
    "** R2 **\n",
    "\n",
    "The \"Proportion of variance explained (R2)'' indicates how much better the function predicts the dependent variable than just using the mean value of the dependent variable.  This is also known as the \"coefficient of multiple determination.''  It is computed as follows: Suppose that we did not fit an equation to the data and ignored all information about the independent variables in each observation.  Then, the best prediction for the dependent variable value for any observation would be the mean value of the dependent variable over all observations.  The \"variance'' is the sum of the squared differences between the mean value and the value of the dependent variable for each observation.  Now, if we use our fitted function to predict the value of the dependent variable, rather than using the mean value, a second kind of variance can be computed by taking the sum of the squared difference between the value of the dependent variable predicted by the function and the actual value.  Hopefully, the variance computed by using the values predicted by the function is better (i.e., a smaller value) than the variance computed using the mean value.  The \"Proportion of variance explained'' is computed as 1 – (variance using predicted value / variance using mean).  If the function perfectly predicts the observed data, the value of this statistic will be 1.00 (100%).  If the function does no better a job of predicting the dependent variable than using the mean, the value will be 0.00.\n",
    "\n",
    "**Adjusted Coefficient of Multiple Determination **\n",
    "\n",
    "The \"adjusted coefficient of multiple determination (Ra2)'' is an R2 statistic adjusted for the number of parameters in the equation and the number of data observations.  It is a more conservative estimate of the percent of variance explained, especially when the sample size is small compared to the number of parameters. \n",
    "\n",
    "** The \"Durbin-Watson Statistic for autocorrelation **\n",
    "\n",
    "The \"Durbin-Watson test for autocorrelation'' is a statistic that indicates the likelihood that the deviation (error) values for the regression have a first-order autoregression component.  The regression models assume that the error deviations are uncorrelated.\n",
    " \n",
    "In business and economics, many regression applications involve time series data.  If a non-periodic function, such as a straight line, is fitted to periodic data, the deviations have a periodic form and are positively correlated over time; these deviations are said to be \"autocorrelated'' or \"serially correlated.''  Autocorrelated deviations may also indicate that the form (shape) of the function being fitted is inappropriate for the data values (e.g., a linear equation fitted to quadratic data).\n",
    " \n",
    "If the deviations are autocorrelated, there may be a number of consequences for the computed results: 1) The estimated regression coefficients no longer have the minimum variance property; 2) the mean square error (MSE) may seriously underestimate the variance of the error terms; 3) the computed standard error of the estimated parameter values may underestimate the true standard error, in which case the t values and confidence intervals may be incorrect.  Note that if an appropriate periodic function is fitted to periodic data, the deviations from the regression will be uncorrelated because the cycle of the data values is accounted for by the fitted function.\n",
    " \n",
    "**Small values of the Durbin-Watson statistic indicate the presence of autocorrelation.  Consult significance tables in a good statistics book for exact interpretations; however, <span style='color:red'>a value less than 0.80</span> usually indicates that autocorrelation is likely.**  If the Durbin-Watson statistic indicates that the residual values are autocorrelated, it is recommended that you use the RPLOT and/or NPLOT statements to display a plot of the residual values.\n",
    " \n",
    "If the data has a regular, periodic component you can try including a sin term in your function.  The TREND.NLR example fits a function with a sin term to data that has a linear growth with a superimposed sin component.  With the sin term the function has a residual value of 29.39 and a Durbin-Watson value of 2.001; without the sin term (i.e., fitting only a linear function) the residual value is 119.16 and the Durbin-Watson value is 0.624 indicating strong autocorrelation.  The general form of a sin term is\n",
    "amplitude * sin(2*pi*(x-phase)/period)\n",
    "\n",
    "where amplitude is a parameter that determines the magnitude of the sin component, period determines the period of the oscillation, and phase determines the phase relative to the starting value.  If you know the period (e.g., 12 for monthly data with an annual cycle) you should specify it rather than having NLREG attempt to determine it.\n",
    " \n",
    "If an NPLOT statement is used to produce a normal probability plot of the residuals, the correlation between the residuals and their expected values (assuming they are normally distributed) is printed in the listing.  If the residuals are normally distributed, the correlation should be close to 1.00.  A correlation less than 0.94 suggests that the residuals are not normally distributed.\n",
    "Analysis of Variance Table\n",
    "\n",
    "An \"Analysis of Variance'' table provides statistics about the overall significance of the model being fitted.\n",
    " \n",
    "** F Value and Prob(F) **\n",
    " \n",
    "The \"F value'' and \"Prob(F)'' statistics test the overall significance of the regression model.  Specifically, they test the null hypothesis that all of the regression coefficients are equal to zero.  This tests the full model against a model with no variables and with the estimate of the dependent variable being the mean of the values of the dependent variable.  The F value is the ratio of the mean regression sum of squares divided by the mean error sum of squares.  Its value will range from zero to an arbitrarily large number.\n",
    " \n",
    "The value of Prob(F) is the probability that the null hypothesis for the full model is true (i.e., that all of the regression coefficients are zero).  For example, if Prob(F) has a value of 0.01000 then there is 1 chance in 100 that all of the regression parameters are zero.  This low a value would imply that at least some of the regression parameters are nonzero and that the regression equation does have some validity in fitting the data (i.e., the independent variables are not purely random with respect to the dependent variable).\n",
    "Correlation Matrix\n",
    "\n",
    "The CORRELATE statement can be used to cause NLREG to print a correlation matrix.  A \"correlation coefficient'' is a value that indicates whether there is a linear relationship between two variables.  The absolute value of the correlation coefficient will be in the range 0 to 1.  A value of 0 indicates that there is no relationship whereas a value of 1 indicates that there is a perfect correlation and the two variables vary together.  The sign of the correlation coefficient will be negative if there is an inverse relationship between the variables (i.e., as one increases the other decreases).\n",
    " \n",
    "For example, consider a study measuring the height and weight of a group of individuals.  The correlation coefficient between height and weight will likely have a positive value somewhat less than one because tall people tend to weigh more than short people.  A study comparing number of cigarettes smoked with age at death will probably have a negative correlation value.\n",
    " \n",
    "A correlation matrix shows the correlation between each pair of variables.  The diagonal of the matrix has values of 1.00 because a variable always has a perfect correlation with itself.  The matrix is symmetric about the diagonal because X correlated with Y is the same as Y correlated with X.\n",
    " \n",
    "** Problems of correlation between independant variables **\n",
    "\n",
    ">Problems occur in regression analysis when a function is specified that has multiple independent variables that are highly correlated.  The common interpretation of the computed regression parameters as measuring the change in the expected value of the dependent variable when the corresponding independent variable is varied while all other independent variables are held constant is not fully applicable when a high degree of correlation exists.  This is due to the fact that with highly correlated independent variables it is difficult to attribute changes in the dependent variable to one of the independent variables rather than another.  The following are effects of fitting a function with high correlated independent variables:\n",
    " \n",
    "1.         Large changes in the estimated regression parameters may occur when a variable is added or deleted, or when an observation is added or deleted.\n",
    " \n",
    "2.         Individual tests on the regression parameters may show the parameters to be nonsignificant.\n",
    " \n",
    "3.         Regression parameters may have the opposite algebraic sign than expected from theoretical or practical considerations.\n",
    " \n",
    "4.         The confidence intervals for important regression parameters may be be much wider than would otherwise be the case.  The solution to these problems may be to select the most significant of the correlated variables and use only it in the function.\n",
    " \n",
    "** Note: the correlation coefficients indicate the degree of linear association between variables. Variables may be highly related in a nonlinear fashion and still have a correlation coefficient near 0. **"
   ]
  },
  {
   "cell_type": "markdown",
   "metadata": {},
   "source": [
    "## Test for multicollinearity (reference)"
   ]
  },
  {
   "cell_type": "markdown",
   "metadata": {},
   "source": [
    "It is also possible that correlations exist between our predictors. This is a condition known as multicollinearity, and this has the potential to make our results invalid. Therefore, we test for this condition using a Variance Inflation Factor (VIF) test. If our VIF statistic > 10, then there exists an issue with multicollinearity.\n",
    "\n",
    "To do this, we run a VIF on the reg1 regression model that we created. The Variance Inflation Factor is calculated as follows:\n",
    "\n",
    "VIF = $\\frac{1}{(1-R^2)}$\n",
    "\n",
    "For below example , x1 and x3 are correlated."
   ]
  },
  {
   "cell_type": "code",
   "execution_count": 20,
   "metadata": {
    "collapsed": false
   },
   "outputs": [
    {
     "name": "stdout",
     "output_type": "stream",
     "text": [
      "**vif **\n",
      "   vif factor   features\n",
      "0      136.87  Intercept\n",
      "1       22.95         x1\n",
      "2        3.00         x2\n",
      "3       12.95         x3\n",
      "4        3.00         x4\n"
     ]
    }
   ],
   "source": [
    "def testVIF():\n",
    "   \n",
    "    # create datasets ; x1 and x2 are correlated\n",
    "    x1=np.array([1,1,2,3,4])\n",
    "    x2=np.array([2,2,3,2,1])\n",
    "    x3=np.array([4,6,7,8,9])\n",
    "    x4=np.array([4,3,4,5,4])\n",
    "    xt = np.column_stack((x1,x2,x3,x4))\n",
    "    xt_df = pd.DataFrame(xt, columns=['x1','x2','x3','x4'])\n",
    "    y = 1.1*x1 + 2.4*x2 + 5.5*x3 + 9.9*x4\n",
    "    \n",
    "    #create\n",
    "    yy,xx = dmatrices('y~x1+x2+x3+x4',data=xt_df, return_type='dataframe')\n",
    "    \n",
    "    # fit x to y\n",
    "    result=sm.OLS(yy,xx).fit()\n",
    "    #print(result.summary())\n",
    "\n",
    "    # create empty dataframe\n",
    "    vif=pd.DataFrame()\n",
    "    \n",
    "    # calculate variance_inflation_factor\n",
    "    vif['vif factor'] = [variance_inflation_factor(xx.values,i) \\\n",
    "                        for i in range(xx.shape[1]) ]\n",
    "    vif['features'] = xx.columns\n",
    "    print('**vif **')\n",
    "    print(vif.round(2))\n",
    "\n",
    "testVIF()"
   ]
  },
  {
   "cell_type": "code",
   "execution_count": null,
   "metadata": {
    "collapsed": false
   },
   "outputs": [],
   "source": []
  },
  {
   "cell_type": "markdown",
   "metadata": {},
   "source": [
    "### Regression scikit-learn -baseline model\n",
    "\n",
    "scikit-learn linear regression is used for baseline data.\n",
    "\n",
    "#### Linear regression using python"
   ]
  },
  {
   "cell_type": "code",
   "execution_count": 21,
   "metadata": {
    "collapsed": false
   },
   "outputs": [],
   "source": [
    "regression_model = LinearRegression()"
   ]
  },
  {
   "cell_type": "markdown",
   "metadata": {},
   "source": [
    "#### Case I :  Input1(Xc), we will only consider Sharp-measured voltage[milivolt]."
   ]
  },
  {
   "cell_type": "code",
   "execution_count": 22,
   "metadata": {
    "collapsed": false
   },
   "outputs": [
    {
     "data": {
      "text/plain": [
       "LinearRegression(copy_X=True, fit_intercept=True, n_jobs=1, normalize=False)"
      ]
     },
     "execution_count": 22,
     "metadata": {},
     "output_type": "execute_result"
    }
   ],
   "source": [
    "regression_model.fit(Xc_train, yc_train)"
   ]
  },
  {
   "cell_type": "markdown",
   "metadata": {},
   "source": [
    "#### Scoring model\n",
    "A common method of measuring the accuracy of regression models is to use the $R^2$ statistic.\n",
    "The $R^2$ statistic is defined as follows:\n",
    "$R^2$=1–$\\frac{RSS}{TSS}$\n",
    "\n",
    "The RSS (Residual sum of squares) measures the variability left unexplained after performing the regression.The TSS measues the total variance in Y.\n",
    "Therefore the **$R^2$ statistic measures proportion of variability in Y that is explained by X using our model**. $R^2$ can be determined using our test set and the model’s score method."
   ]
  },
  {
   "cell_type": "markdown",
   "metadata": {},
   "source": [
    "Trained model $R^2$ score"
   ]
  },
  {
   "cell_type": "code",
   "execution_count": 23,
   "metadata": {
    "collapsed": false
   },
   "outputs": [
    {
     "data": {
      "text/plain": [
       "0.69"
      ]
     },
     "execution_count": 23,
     "metadata": {},
     "output_type": "execute_result"
    }
   ],
   "source": [
    "R2_train_case1 = regression_model.score(Xc_train, yc_train)\n",
    "R2_train_case1"
   ]
  },
  {
   "cell_type": "markdown",
   "metadata": {},
   "source": [
    "Test model $R^2$ score"
   ]
  },
  {
   "cell_type": "code",
   "execution_count": 24,
   "metadata": {
    "collapsed": false
   },
   "outputs": [
    {
     "data": {
      "text/plain": [
       "0.65"
      ]
     },
     "execution_count": 24,
     "metadata": {},
     "output_type": "execute_result"
    }
   ],
   "source": [
    "R2_test_case1 = regression_model.score(Xc_test, yc_test)\n",
    "R2_test_case1"
   ]
  },
  {
   "cell_type": "markdown",
   "metadata": {},
   "source": [
    "So in our model, 70.04% of the variability in y can be explained using Xc"
   ]
  },
  {
   "cell_type": "markdown",
   "metadata": {},
   "source": [
    "#### Mean squared error"
   ]
  },
  {
   "cell_type": "code",
   "execution_count": 25,
   "metadata": {
    "collapsed": false
   },
   "outputs": [
    {
     "name": "stdout",
     "output_type": "stream",
     "text": [
      "rms:6.41\n"
     ]
    }
   ],
   "source": [
    "yc_predict = regression_model.predict(Xc_test)\n",
    "\n",
    "regression_model_mse = mean_squared_error(yc_predict, yc_test)\n",
    "\n",
    "rms_error1 = math.sqrt(regression_model_mse)\n",
    "print('rms:%3.2f' %rms_error1)"
   ]
  },
  {
   "cell_type": "markdown",
   "metadata": {
    "variables": {
     "rms_error1": "<p><strong>NameError</strong>: name &#39;rms_error1&#39; is not defined</p>\n"
    }
   },
   "source": [
    "So we are an average of {{rms_error1}} $\\mu$g/$m^3$ away from the ground truth PM2.5 concentration when making predictions on our test set.\n"
   ]
  },
  {
   "cell_type": "markdown",
   "metadata": {},
   "source": [
    "### K-fold Cross-validation of scikit-learn LinearRegressor\n",
    "K-Folds Cross Validation\n",
    "In K-Folds Cross Validation, we split our data into k different subsets (or folds). We use k-1 subsets to train our data and leave the last subset (or the last fold) as test data. We then average the model against each of the folds and then finalize our model. After that we test it against the test set.<br>\n",
    "\n"
   ]
  },
  {
   "cell_type": "markdown",
   "metadata": {},
   "source": [
    "#### Case I : Linear Regression with only measurement of portable device "
   ]
  },
  {
   "cell_type": "code",
   "execution_count": 26,
   "metadata": {
    "collapsed": false
   },
   "outputs": [
    {
     "name": "stdout",
     "output_type": "stream",
     "text": [
      "10 fold Cross Validation Result ------\n",
      "R2 mean        : 0.65, std: 0.11\n",
      "rmse mean       : 6.54, std: 0.92\n",
      "mean of y_test : 18.16\n"
     ]
    }
   ],
   "source": [
    "from sklearn.model_selection import KFold\n",
    "from sklearn.model_selection import LeaveOneOut \n",
    "from sklearn.model_selection import cross_val_score\n",
    "\n",
    "# K-Fold Cross Validation\n",
    "# X must be numpy array if X is Pandas DataFrame, use X.values instead. \n",
    "def crossValidationKFold(X,y,kfold=10):\n",
    "    k_fold = KFold(n_splits=kfold,shuffle=True)\n",
    "    rmse =[]\n",
    "    R2 = []\n",
    "    mean_y_test =[]\n",
    "    for train,test in k_fold.split(X):\n",
    "        regression_model.fit(X[train],y[train])\n",
    "        # R2\n",
    "        R2cv = regression_model.score(X[test],y[test])\n",
    "        # make a list of R2\n",
    "        R2.append(R2cv)\n",
    "        \n",
    "        # calculate mean of y[test]\n",
    "        mean_ytest = np.mean(y[test])\n",
    "        # make a list of mean of y[test]\n",
    "        mean_y_test.append(mean_ytest)\n",
    "        \n",
    "        # calculate mse\n",
    "        y_predicted=regression_model.predict(X[test])\n",
    "        mse = mean_squared_error(y_predicted, y[test])\n",
    "        # make list of mse\n",
    "        rmse.append(math.sqrt(mse))\n",
    "       \n",
    "    # covert python list to numpy array    \n",
    "    R2_np = np.array(R2)\n",
    "    rmse_np = np.array(rmse)\n",
    "    mean_y_test_np = np.array(mean_y_test)\n",
    "    \n",
    "    # print \n",
    "    print ('%s '%(kf_cv) + 'fold Cross Validation Result ------')\n",
    "    print ('R2 mean        :%5.2f, std:%5.2f' %(R2_np.mean(),R2_np.std()))\n",
    "    print ('rmse mean       :%5.2f, std:%5.2f'  \\\n",
    "            %(rmse_np.mean(),rmse_np.std()))\n",
    "    print('mean of y_test : %.2f' %(mean_y_test_np.mean()))\n",
    "    \n",
    "    # return rms error and R2\n",
    "    return {'rmse' : rmse_np, 'R2' : R2_np, 'mean_y_test' : mean_y_test_np}\n",
    "\n",
    "def crossValLOO(Xc):\n",
    "     for train,test in loo.split(Xc):\n",
    "        tr=regression_model.fit(Xc[train],y[train])\n",
    "        y_predicted=regression_model.predict(Xc[test])\n",
    "        mse = mean_squared_error(y_predicted, y[test])\n",
    "        rmse = math.sqrt(mse)\n",
    "        print('square-root of mse: %5.2f' %rmse)\n",
    "kf_cv =10\n",
    "kFoldCV1 = crossValidationKFold(Xc,y,kfold=kf_cv)"
   ]
  },
  {
   "cell_type": "markdown",
   "metadata": {
    "variables": {
     "kFoldCV1['mean_y_test'].mean()": "<p><strong>NameError</strong>: name &#39;kFoldCV1&#39; is not defined</p>\n",
     "kFoldCV1['rmse'].mean()": "<p><strong>NameError</strong>: name &#39;kFoldCV1&#39; is not defined</p>\n",
     "kFoldCV1['rmse'].mean()/kFoldCV1['mean_y_test'].mean()*100": "<p><strong>NameError</strong>: name &#39;kFoldCV1&#39; is not defined</p>\n",
     "kf_cv": "<p><strong>NameError</strong>: name &#39;kf_cv&#39; is not defined</p>\n"
    }
   },
   "source": [
    "#####  Analysis of K-Fold Mean of RMSE\n",
    "{{kf_cv}}-Fold mean of root mean square error(rmse) is {{kFoldCV1['rmse'].mean()}}, which is {{kFoldCV1['rmse'].mean()/kFoldCV1['mean_y_test'].mean()*100}} % of K-Fold mean of y_test ({{kFoldCV1['mean_y_test'].mean()}})"
   ]
  },
  {
   "cell_type": "markdown",
   "metadata": {},
   "source": [
    "####  Case II :  Case I : Linear Regression with only measurement of portable device, temperature, humidity\n",
    "Regression model includes temperature and humidity along with measurement of portable PM2.5 measuring device."
   ]
  },
  {
   "cell_type": "code",
   "execution_count": 27,
   "metadata": {
    "collapsed": false
   },
   "outputs": [
    {
     "name": "stdout",
     "output_type": "stream",
     "text": [
      "train model score(R2)  :  0.77\n",
      "test  model score(R2)  :  0.75\n",
      "RMS error              :  6.08\n",
      "10 fold Cross Validation Result ------\n",
      "R2 mean        : 0.76, std: 0.07\n",
      "rmse mean       : 5.59, std: 0.92\n",
      "mean of y_test : 18.16\n"
     ]
    }
   ],
   "source": [
    "# fit model to data\n",
    "regression_model.fit(X_train, y_train)\n",
    "\n",
    "# calculate R2 (coefficient of determination)\n",
    "R2_train_case2 = regression_model.score(X_train, y_train)\n",
    "R2_test_case2  = regression_model.score(X_test, y_test)\n",
    "\n",
    "# predict output\n",
    "y_predict = regression_model.predict(X_test)\n",
    "\n",
    "# calculate root-mean-squared-error(rms)\n",
    "regression_model_mse = mean_squared_error(y_predict, y_test)\n",
    "rms_error2 = math.sqrt(regression_model_mse)\n",
    "\n",
    "# print results\n",
    "print('train model score(R2)  : %5.2f' % R2_train_case2)\n",
    "print('test  model score(R2)  : %5.2f' % R2_test_case2)\n",
    "print('RMS error              : %5.2f' % rms_error2)\n",
    "\n",
    "#K-fold cross validation\n",
    "kFoldCV2 = crossValidationKFold(X.values,y,kfold=kf_cv)\n",
    "\n"
   ]
  },
  {
   "cell_type": "code",
   "execution_count": 28,
   "metadata": {
    "collapsed": false
   },
   "outputs": [
    {
     "data": {
      "text/plain": [
       "5.59"
      ]
     },
     "execution_count": 28,
     "metadata": {},
     "output_type": "execute_result"
    }
   ],
   "source": [
    "kFoldCV2['rmse'].mean()"
   ]
  },
  {
   "cell_type": "markdown",
   "metadata": {},
   "source": [
    "#### Comparison between case I and II based on K-fold cross validation"
   ]
  },
  {
   "cell_type": "code",
   "execution_count": 29,
   "metadata": {
    "collapsed": false
   },
   "outputs": [
    {
     "name": "stdout",
     "output_type": "stream",
     "text": [
      "R2 increase(train)           :    12 [%]\n",
      "R2 increase(test)            :    15 [%]\n",
      "RMS error decrease           :     5 [%]\n",
      "RMS(k-fold) error decrease   :    14 [%]\n",
      "R2(k-fold) increase          :    16 [%]\n"
     ]
    }
   ],
   "source": [
    "gain0 = (R2_train_case2 - R2_train_case1)/R2_train_case1 * 100\n",
    "gain1 = (R2_test_case2 - R2_test_case1)/R2_test_case1 * 100\n",
    "gain2 = (rms_error1 - rms_error2)/rms_error1 * 100\n",
    "gain3 = (kFoldCV1['rmse'].mean()-kFoldCV2['rmse'].mean())/kFoldCV1['rmse'].mean() *100\n",
    "gain4 = (kFoldCV2['R2'].mean()-kFoldCV1['R2'].mean())/kFoldCV1['R2'].mean() *100\n",
    "\n",
    "print('R2 increase(train)           : %5.0f [%%]' % gain0 )\n",
    "print('R2 increase(test)            : %5.0f [%%]' % gain1 )\n",
    "print('RMS error decrease           : %5.0f [%%]' % gain2 )\n",
    "print('RMS(k-fold) error decrease   : %5.0f [%%]' % gain3 )\n",
    "print('R2(k-fold) increase          : %5.0f [%%]' % gain4 )\n"
   ]
  },
  {
   "cell_type": "markdown",
   "metadata": {},
   "source": []
  },
  {
   "cell_type": "markdown",
   "metadata": {
    "variables": {
     "R2_test_case1": "<p><strong>NameError</strong>: name &#39;R2_test_case1&#39; is not defined</p>\n",
     "R2_test_case2": "<p><strong>NameError</strong>: name &#39;R2_test_case2&#39; is not defined</p>\n",
     "R2_train_case1": "<p><strong>NameError</strong>: name &#39;R2_train_case1&#39; is not defined</p>\n",
     "R2_train_case2": "<p><strong>NameError</strong>: name &#39;R2_train_case2&#39; is not defined</p>\n",
     "gain0": "<p><strong>NameError</strong>: name &#39;gain0&#39; is not defined</p>\n",
     "gain1": "<p><strong>NameError</strong>: name &#39;gain1&#39; is not defined</p>\n",
     "gain2": "<p><strong>NameError</strong>: name &#39;gain2&#39; is not defined</p>\n",
     "gain3": "<p><strong>NameError</strong>: name &#39;gain3&#39; is not defined</p>\n",
     "gain4": "<p><strong>NameError</strong>: name &#39;gain4&#39; is not defined</p>\n",
     "kFoldCV1['R2'].mean()": "<p><strong>NameError</strong>: name &#39;kFoldCV1&#39; is not defined</p>\n",
     "kFoldCV1['mean_y_test'].mean()": "<p><strong>NameError</strong>: name &#39;kFoldCV1&#39; is not defined</p>\n",
     "kFoldCV1['rmse'].mean()": "<p><strong>NameError</strong>: name &#39;kFoldCV1&#39; is not defined</p>\n",
     "kFoldCV1['rmse'].mean()/kFoldCV1['mean_y_test'].mean() *100": "<p><strong>NameError</strong>: name &#39;kFoldCV1&#39; is not defined</p>\n",
     "kFoldCV2['R2'].mean()": "<p><strong>NameError</strong>: name &#39;kFoldCV2&#39; is not defined</p>\n",
     "kFoldCV2['rmse'].mean()": "<p><strong>NameError</strong>: name &#39;kFoldCV2&#39; is not defined</p>\n",
     "kFoldCV2['rmse'].mean()/kFoldCV2['mean_y_test'].mean() *100": "<p><strong>NameError</strong>: name &#39;kFoldCV2&#39; is not defined</p>\n",
     "kf_cv": "<p><strong>NameError</strong>: name &#39;kf_cv&#39; is not defined</p>\n",
     "rms_error1": "<p><strong>NameError</strong>: name &#39;rms_error1&#39; is not defined</p>\n",
     "rms_error2": "<p><strong>NameError</strong>: name &#39;rms_error2&#39; is not defined</p>\n"
    }
   },
   "source": [
    "----\n",
    "#### Comparison between Case I and Case II<br>\n",
    "\n",
    "|input|train $R^2$|test $R^2$|test RMS error $\\frac{\\mu g}{m^3}$|{{kf_cv}}-fold RMS error|{{kf_cv}}-fold $R^2$|\n",
    "|:---|:--------------:|------------:|------------:|------:|-------:|\n",
    "|case1($X_c$)|{{R2_train_case1}}|{{R2_test_case1}}|{{rms_error1}}|{{kFoldCV1['rmse'].mean()}}|{{kFoldCV1['R2'].mean()}}\n",
    "|case2($X$)|{{R2_train_case2}}|{{R2_test_case2}}|{{rms_error2}}|{{kFoldCV2['rmse'].mean()}}|{{kFoldCV2['R2'].mean()}}|\n",
    "|gain[%]|{{gain0}}|{{gain1}}|{{gain2}}|**{{gain3}}**|**{{gain4}}**|\n",
    "\n",
    "\n",
    "With temperature and humidity included in the regression model(Case II), RMS error caculated by K-fold cross validation(no. of folds = {{kf_cv}}) is decreased by {{gain3}} % and $R^2$ increased by {{gain4}} %. \n",
    "\n",
    "Mean of test_y for case I and II was {{kFoldCV1['mean_y_test'].mean()}} $\\mu g/m^3$.\n",
    "\n",
    "RMSE of Case I is {{kFoldCV1['rmse'].mean()/kFoldCV1['mean_y_test'].mean() *100}} % of mean test_y.\n",
    "\n",
    "RMSE of Case II is {{kFoldCV2['rmse'].mean()/kFoldCV2['mean_y_test'].mean() *100}} % of mean test_y.\n",
    "\n"
   ]
  },
  {
   "cell_type": "code",
   "execution_count": null,
   "metadata": {
    "collapsed": true
   },
   "outputs": [],
   "source": []
  },
  {
   "cell_type": "markdown",
   "metadata": {},
   "source": [
    "#### T - test of Case 1 and Case 2\n",
    "Calculate the T-test for the means of two independent samples of scores.\n",
    "\n",
    "This is a two-tailed(two-sided) test for the null hypothesis that 2 independent samples have identical average (expected) values. This test assumes that the populations have identical variances by default.\n",
    "\n",
    "The result is two-tailed p-value."
   ]
  },
  {
   "cell_type": "code",
   "execution_count": 30,
   "metadata": {
    "collapsed": false
   },
   "outputs": [
    {
     "name": "stdout",
     "output_type": "stream",
     "text": [
      "Two Sample T-test for R2 ==> t-r2:-2.39 p-r2:0.03\n",
      "Two Sample T-test for RMSE ==> t-rms:2.19 p-rms:0.04\n"
     ]
    }
   ],
   "source": [
    "from scipy import stats\n",
    "\n",
    "n1 = kFoldCV1['R2'];\n",
    "n2 = kFoldCV2['R2']\n",
    "t_R2, p_R2 = stats.ttest_ind(n1,n2)\n",
    "print('Two Sample T-test for R2 ==> t-r2:%3.2f p-r2:%3.2f' %(t_R2,p_R2))\n",
    "\n",
    "n1 = kFoldCV1['rmse'];\n",
    "n2 = kFoldCV2['rmse']\n",
    "t_rms, p_rms = stats.ttest_ind(n1,n2)\n",
    "print('Two Sample T-test for RMSE ==> t-rms:%3.2f p-rms:%3.2f' %(t_rms,p_rms))"
   ]
  },
  {
   "cell_type": "markdown",
   "metadata": {},
   "source": [
    "## Plot the results"
   ]
  },
  {
   "cell_type": "markdown",
   "metadata": {},
   "source": [
    "#### comparison plot between observed and predicted"
   ]
  },
  {
   "cell_type": "code",
   "execution_count": 31,
   "metadata": {
    "collapsed": false
   },
   "outputs": [
    {
     "data": {
      "image/png": "[encoded data removed]",
      "text/plain": [
       "<matplotlib.figure.Figure at 0x7f6be9b8c8d0>"
      ]
     },
     "metadata": {},
     "output_type": "display_data"
    }
   ],
   "source": [
    "plt.figure(figsize=(12,6))\n",
    "plt.bar(y_predict,y_test.values-y_predict,width=0.2,alpha=0.5)\n",
    "plt.scatter(y_predict,y_test.values-y_predict,alpha=0.5)\n",
    "plt.plot([0,50],[0,0],'--b',lw=1)\n",
    "\n",
    "plt.grid(False)\n",
    "plt.xlabel('Prediction of Portable PM2.5 Measuring Device[$\\mu g / m^3$]',fontsize=16)\n",
    "plt.ylabel('Residual(observation - prediction)[$\\mu g / m^3$]',fontsize=16)\n",
    "plt.tick_params(labelsize = 16)\n",
    "plt.savefig('./fig_Regression/LinearRegressionPerfomance.png', dpi=600,bbox_inches='tight')\n",
    "plt.show()"
   ]
  },
  {
   "cell_type": "markdown",
   "metadata": {
    "collapsed": false
   },
   "source": [
    "Above results are \n",
    "- $\\frac{R^2_{XGB}-R^2_{LR}}{R^2_{LR}}$        :  5 ~% increase in mean $R^2$\n",
    "\n",
    "- $\\frac{RMSE_{LR}-RMSE_{XGB}}{RMSE_{LR}}$  :  10 ~ % decrease in RMSE.\n",
    "\n",
    "\n"
   ]
  },
  {
   "cell_type": "code",
   "execution_count": null,
   "metadata": {
    "collapsed": true
   },
   "outputs": [],
   "source": []
  },
  {
   "cell_type": "code",
   "execution_count": null,
   "metadata": {
    "collapsed": true
   },
   "outputs": [],
   "source": []
  },
  {
   "cell_type": "markdown",
   "metadata": {},
   "source": [
    "##### Random forest optimization : no. of trees\n",
    "Not much change in improvement of $R^2$ is observed when the number of trees is increased from 50 to 2000."
   ]
  },
  {
   "cell_type": "code",
   "execution_count": 32,
   "metadata": {
    "collapsed": false
   },
   "outputs": [
    {
     "ename": "NameError",
     "evalue": "name 'RandomForestRegression' is not defined",
     "output_type": "error",
     "traceback": [
      "\u001b[0;31m---------------------------------------------------------------------------\u001b[0m",
      "\u001b[0;31mNameError\u001b[0m                                 Traceback (most recent call last)",
      "\u001b[0;32m<ipython-input-32-16bf815f54e8>\u001b[0m in \u001b[0;36m<module>\u001b[0;34m()\u001b[0m\n\u001b[1;32m      1\u001b[0m \u001b[0mnumberOfEstimators\u001b[0m \u001b[0;34m=\u001b[0m \u001b[0;34m[\u001b[0m\u001b[0;36m50\u001b[0m\u001b[0;34m,\u001b[0m\u001b[0;36m100\u001b[0m\u001b[0;34m,\u001b[0m\u001b[0;36m500\u001b[0m\u001b[0;34m,\u001b[0m\u001b[0;36m1000\u001b[0m\u001b[0;34m,\u001b[0m\u001b[0;36m2000\u001b[0m\u001b[0;34m]\u001b[0m\u001b[0;34m\u001b[0m\u001b[0m\n\u001b[1;32m      2\u001b[0m \u001b[0;32mfor\u001b[0m \u001b[0mnoOfEstimator\u001b[0m \u001b[0;32min\u001b[0m \u001b[0mnumberOfEstimators\u001b[0m\u001b[0;34m:\u001b[0m\u001b[0;34m\u001b[0m\u001b[0m\n\u001b[0;32m----> 3\u001b[0;31m     \u001b[0mrf_optimization\u001b[0m \u001b[0;34m=\u001b[0m \u001b[0mRandomForestRegression\u001b[0m\u001b[0;34m(\u001b[0m\u001b[0mX_train\u001b[0m\u001b[0;34m,\u001b[0m\u001b[0mX_test\u001b[0m\u001b[0;34m,\u001b[0m\u001b[0my_train\u001b[0m\u001b[0;34m,\u001b[0m\u001b[0my_test\u001b[0m\u001b[0;34m,\u001b[0m\u001b[0mn_estimator\u001b[0m\u001b[0;34m=\u001b[0m\u001b[0mnoOfEstimator\u001b[0m\u001b[0;34m,\u001b[0m\u001b[0mverbose\u001b[0m\u001b[0;34m=\u001b[0m\u001b[0;36m0\u001b[0m\u001b[0;34m)\u001b[0m\u001b[0;34m\u001b[0m\u001b[0m\n\u001b[0m\u001b[1;32m      4\u001b[0m \u001b[0;34m\u001b[0m\u001b[0m\n",
      "\u001b[0;31mNameError\u001b[0m: name 'RandomForestRegression' is not defined"
     ]
    }
   ],
   "source": [
    "numberOfEstimators = [50,100,500,1000,2000]\n",
    "for noOfEstimator in numberOfEstimators:\n",
    "    rf_optimization = RandomForestRegression(X_train,X_test,y_train,y_test,n_estimator=noOfEstimator,verbose=0)\n",
    "    "
   ]
  },
  {
   "cell_type": "markdown",
   "metadata": {},
   "source": []
  },
  {
   "cell_type": "markdown",
   "metadata": {},
   "source": [
    "#### Regression Plots of random forest"
   ]
  },
  {
   "cell_type": "code",
   "execution_count": null,
   "metadata": {
    "collapsed": false
   },
   "outputs": [],
   "source": [
    "plt.figure(figsize=(6,6))\n",
    "plt.plot(y_test.values,rf['prediction-test'],'bo',alpha=0.5)\n",
    "plt.plot([0,60],[0,60],'--g')\n",
    "plt.grid()\n",
    "plt.xlabel('Observed',fontsize=plotFontSize)\n",
    "plt.ylabel('Predicted',fontsize=plotFontSize)\n",
    "#plt.title('Regression using Random Forest Regressor')\n",
    "plt.tick_params(labelsize = plotFontSize)\n",
    "plt.savefig('./fig_Regression/RandomForestCorrelation.png', dpi=600,bbox_inches='tight')\n",
    "plt.show()"
   ]
  },
  {
   "cell_type": "markdown",
   "metadata": {},
   "source": [
    "#### regression plot of XGB"
   ]
  },
  {
   "cell_type": "code",
   "execution_count": null,
   "metadata": {
    "collapsed": false
   },
   "outputs": [],
   "source": [
    "xgb = XGBRegressor()\n",
    "xgb.fit(X_train,y_train)\n",
    "plt.figure(figsize=(8,8))\n",
    "plt.plot(y_test.values,xgb.predict(X_test),'bo',ms=10,alpha=1,label='XGB')\n",
    "plt.plot([0,60],[0,60],'--g')\n",
    "plt.grid()\n",
    "plt.xlabel('Prediction[$\\mu g/m^3$]',fontsize=14)\n",
    "plt.ylabel('Observation[$\\mu g/m^3$]',fontsize=14)\n",
    "plt.tick_params(labelsize = 14)\n",
    "savefig=True\n",
    "if savefig:\n",
    "    plt.savefig('./fig_Regression/XgbCorrelation.png', dpi=600,bbox_inches='tight')\n",
    "plt.show()"
   ]
  },
  {
   "cell_type": "markdown",
   "metadata": {},
   "source": [
    "## Residual plots\n",
    "Residual plots are a good way to visualize the errors in data. If you see structure in your data, that means your model is not capturing some thing, Maybe there is a interaction between 2 variables that you are not considering, or may be you are measuring time dependant data. If there are some structure in your data,your model should be checked again.  This random pattern indicates that a linear model provides a decent fit to the data. Before you look at the statistical measures for goodness-of-fit, you should check the residual plots. Residual plots can reveal unwanted residual patterns that indicate biased results more effectively than numbers. When your residual plots pass muster, you can trust your numerical results and check the goodness-of-fit statistics.\n",
    "\n"
   ]
  },
  {
   "cell_type": "code",
   "execution_count": null,
   "metadata": {
    "collapsed": false
   },
   "outputs": [],
   "source": [
    "plt.scatter(X_train['mpd'], rf['Residual-train'], c='b', s=30, alpha=0.5)\n",
    "plt.scatter(X_test['mpd'], rf['Residual-test'], marker='s',c='k', s=30, alpha = 0.5)\n",
    "plt.hlines(y=0, xmin=0,xmax=120, alpha=0.5, colors='r')\n",
    "plt.xlabel('Measurement of Portable Device[mv]',fontsize=plotFontSize)\n",
    "plt.ylabel('Residuals',fontsize=plotFontSize)\n",
    "#plt.title('Residual Plot')\n",
    "plt.legend(['training data','test data'])\n",
    "plt.tick_params(labelsize = plotFontSize)\n",
    "plt.savefig('./fig_Regression/RandomForestResidual.png', dpi=600,bbox_inches='tight')\n",
    "plt.show()"
   ]
  },
  {
   "cell_type": "markdown",
   "metadata": {},
   "source": [
    "A question regarding the number of data points for regression ? <br>\n",
    "What is the minimum number of regression data points? hard to answer. Why don't we first find out how the number of data points affect regression result? <br>\n",
    "\n",
    "For this analysis, test samples are not used. Ignore X_test, y_test.\n"
   ]
  },
  {
   "cell_type": "code",
   "execution_count": null,
   "metadata": {
    "collapsed": false
   },
   "outputs": [],
   "source": [
    "# rf_optimization_NoOfSamples function returns R2 of Random Forest Regressor\n",
    "# based on no. of samples\n",
    "\n",
    "def rf_optimization_NoOfSamples(X,y,noOfSamplesArray):\n",
    "    \n",
    "    outOfBagR2  = []\n",
    "    minMaxArray = []\n",
    "    rf = RandomForestRegressor(n_estimators=100, oob_score=True)\n",
    "    for noOfSamples in noOfSamplesArray:\n",
    "        XX = X[:noOfSamples]\n",
    "        yy = y[:noOfSamples]\n",
    "        rf.fit(XX, yy)\n",
    "        outOfBagR2.append(rf.oob_score_)\n",
    "        minMaxArray.append([XX['mpd'].min(), XX['mpd'].max()])\n",
    "        \n",
    "    # covert Python list into numpy array\n",
    "    outOfBagR2 = np.array(outOfBagR2)\n",
    "    minMaxArray = np.array(minMaxArray)\n",
    "    \n",
    "    # return outputs\n",
    "    return {'oob-R2':outOfBagR2, 'minMax':minMaxArray}\n",
    "\n",
    "# number of sample optimization\n",
    "noOfSamplesArray =np.arange(10,X.shape[0],10)\n",
    "rfOptNoOfSample = rf_optimization_NoOfSamples(X,y,noOfSamplesArray)  \n",
    "\n",
    "# Plot\n",
    "plotFontSize = 14\n",
    "plt.plot(noOfSamplesArray, rfOptNoOfSample['oob-R2'],'--ko',markersize=10)\n",
    "plt.ylabel('Out-of-bag $R^2$', fontsize = plotFontSize)\n",
    "plt.xlabel('Number of samples', fontsize = plotFontSize)\n",
    "plt.tick_params(labelsize = plotFontSize)\n",
    "\n",
    "plt.grid()\n",
    "savefig = True\n",
    "if savefig == True:\n",
    "    plt.savefig('./fig_Regression/NoOfSampleOptimization.png', dpi=600,bbox_inches='tight')\n",
    "plt.show()"
   ]
  },
  {
   "cell_type": "markdown",
   "metadata": {},
   "source": [
    "As the number of samples increases out-of-bag $R^2$ also increases and approaches a steady state value."
   ]
  },
  {
   "cell_type": "markdown",
   "metadata": {
    "collapsed": true
   },
   "source": [
    "## Paper idea\n",
    "\n",
    "- regression using machine learning algorithm <br>\n",
    "  Algorithm to consider includes linear regressor as a baseline, random forester, artificial neural network.\n",
    "\n",
    "- peer calibration using MQTT and K-nearest neighborhood method\n",
    "  MQTT protocol : \n",
    "  topic : country/city/latitude/longitude/deviceID, \n",
    "  message : {'temp':23, 'humidity': 46, 'pm25' : 34}\n"
   ]
  },
  {
   "cell_type": "markdown",
   "metadata": {},
   "source": [
    "## Hyperparameter Search\n",
    "Try Random Forest first. It looks like there are not much difference in performance of Random Forest Regressor as the number of trees increases."
   ]
  },
  {
   "cell_type": "markdown",
   "metadata": {},
   "source": [
    "Import nessary sklearn libraries"
   ]
  },
  {
   "cell_type": "code",
   "execution_count": null,
   "metadata": {
    "collapsed": false
   },
   "outputs": [],
   "source": [
    "# Grid Search Cross Validation\n",
    "from sklearn.model_selection import GridSearchCV\n",
    "\n",
    "#custom scoring function\n",
    "from sklearn.metrics import make_scorer"
   ]
  },
  {
   "cell_type": "markdown",
   "metadata": {},
   "source": [
    "User defined scoring function"
   ]
  },
  {
   "cell_type": "code",
   "execution_count": null,
   "metadata": {
    "collapsed": false
   },
   "outputs": [],
   "source": [
    "# my custom scoring function (r2_score)\n",
    "customScoring = make_scorer(score_func=r2_score, greater_is_better=True)"
   ]
  },
  {
   "cell_type": "markdown",
   "metadata": {},
   "source": [
    "Create Random forest instance"
   ]
  },
  {
   "cell_type": "code",
   "execution_count": null,
   "metadata": {
    "collapsed": false
   },
   "outputs": [],
   "source": [
    "# create Random Forest Instance\n",
    "rfCV= RandomForestRegressor(oob_score=True, random_state=1)\n"
   ]
  },
  {
   "cell_type": "markdown",
   "metadata": {},
   "source": [
    "Define Grid Search Parameters"
   ]
  },
  {
   "cell_type": "code",
   "execution_count": null,
   "metadata": {
    "collapsed": false
   },
   "outputs": [],
   "source": [
    "# define the grid search parameters\n",
    "param_grid = {'n_estimators' : [20,50,100,500]}\n",
    "grid = GridSearchCV(estimator=rfCV, param_grid=param_grid, n_jobs=-1,cv=5, scoring=customScoring)\n",
    "grid_result = grid.fit(X_train, y_train)"
   ]
  },
  {
   "cell_type": "markdown",
   "metadata": {},
   "source": [
    "List Best score"
   ]
  },
  {
   "cell_type": "code",
   "execution_count": null,
   "metadata": {
    "collapsed": false
   },
   "outputs": [],
   "source": [
    "print('*********** RESULTS **********************')\n",
    "print('best: %f using %s' %(grid.best_score_, grid_result.best_params_))\n"
   ]
  },
  {
   "cell_type": "markdown",
   "metadata": {},
   "source": [
    "Mean and standard deviation of scores"
   ]
  },
  {
   "cell_type": "code",
   "execution_count": null,
   "metadata": {
    "collapsed": false
   },
   "outputs": [],
   "source": [
    "print(\"Grid scores on development set:\")\n",
    "means = grid_result.cv_results_['mean_test_score']\n",
    "stds = grid_result.cv_results_['std_test_score']\n",
    "\n",
    "#THIS IS WHAT YOU WANT\n",
    "for mean, std, params in zip(means, stds, grid_result.cv_results_['params']):\n",
    "    print(\"%0.3f (+/-%0.03f) for %r\"\n",
    "          % (mean, std * 2, params))"
   ]
  },
  {
   "cell_type": "markdown",
   "metadata": {},
   "source": [
    "#### Verification"
   ]
  },
  {
   "cell_type": "code",
   "execution_count": null,
   "metadata": {
    "collapsed": false
   },
   "outputs": [],
   "source": [
    "verificationModel = RandomForestRegressor(oob_score=True, n_estimators=100)\n",
    "verificationModel.fit(X_train,y_train)"
   ]
  },
  {
   "cell_type": "markdown",
   "metadata": {},
   "source": [
    "#### Verification using test data set"
   ]
  },
  {
   "cell_type": "code",
   "execution_count": null,
   "metadata": {
    "collapsed": false
   },
   "outputs": [],
   "source": [
    "y_pred = verificationModel.predict(X_test)\n",
    "print(r2_score(y_pred , y_test))\n",
    "\n",
    "plt.plot(y_test,y_pred,'bo');plt.ylabel('predicted');plt.xlabel('observed');\n",
    "plt.plot([0 ,60] ,[0, 60],'--g')\n",
    "plt.show()"
   ]
  },
  {
   "cell_type": "markdown",
   "metadata": {
    "collapsed": true
   },
   "source": [
    "## Neural Network Regression"
   ]
  },
  {
   "cell_type": "code",
   "execution_count": null,
   "metadata": {
    "collapsed": false
   },
   "outputs": [],
   "source": [
    "import keras \n",
    "from keras.layers import Input,Dense,Activation,Dropout\n",
    "from keras.models import Sequential,Model,optimizers \n",
    "\n",
    "from sklearn.metrics import mean_squared_error\n",
    "from sklearn.preprocessing import MinMaxScaler"
   ]
  },
  {
   "cell_type": "markdown",
   "metadata": {},
   "source": [
    "### Preparing MinMax Scaled Inputs to Neural network model"
   ]
  },
  {
   "cell_type": "code",
   "execution_count": null,
   "metadata": {
    "collapsed": true
   },
   "outputs": [],
   "source": [
    "X_in = X_train_mm_scaled.values # min-max scaled data\n",
    "Y_in = y_train_mm_scaled.values"
   ]
  },
  {
   "cell_type": "markdown",
   "metadata": {},
   "source": [
    "Create and compile a neural network model"
   ]
  },
  {
   "cell_type": "code",
   "execution_count": null,
   "metadata": {
    "collapsed": false
   },
   "outputs": [],
   "source": [
    "def create_model_NN(hiddenLayer1=64,hiddenLayer2=32):\n",
    "    model=Sequential()\n",
    "    # input layer + hidden layer 1\n",
    "    model.add(Dense(units=hiddenLayer1, activation='relu', kernel_initializer='uniform', input_dim=X_in.shape[1]))\n",
    "    # hidden layer 2\n",
    "    model.add(Dense(units=hiddenLayer2,activation='relu'))\n",
    "    #model.add(Dropout(0.2))\n",
    "    # hidden layer 3\n",
    "    #model.add(Dense(units=hiddenLayer3,activation='relu'))\n",
    "    #model.add(Dropout(0.2))\n",
    "    # output layer\n",
    "    model.add(Dense(units=1,activation='linear'))\n",
    "    # complile\n",
    "    model.compile(optimizer='adam',loss='mean_squared_error')\n",
    "    return model\n",
    "\n",
    "NN_model = create_model_NN()"
   ]
  },
  {
   "cell_type": "markdown",
   "metadata": {},
   "source": [
    "Fit a model to data"
   ]
  },
  {
   "cell_type": "code",
   "execution_count": null,
   "metadata": {
    "collapsed": false
   },
   "outputs": [],
   "source": [
    "history = NN_model.fit(X_in,Y_in,epochs=500,batch_size=X_in.shape[0],verbose=0)"
   ]
  },
  {
   "cell_type": "code",
   "execution_count": null,
   "metadata": {
    "collapsed": false
   },
   "outputs": [],
   "source": [
    "# plot of loss\n",
    "print(history.history.keys())\n",
    "plt.plot(history.history['loss'],'k')\n",
    "plt.title('model learning loss')\n",
    "plt.ylabel('loss')\n",
    "plt.xlabel('epoch')\n",
    "plt.show()"
   ]
  },
  {
   "cell_type": "markdown",
   "metadata": {},
   "source": [
    "Prediction"
   ]
  },
  {
   "cell_type": "code",
   "execution_count": null,
   "metadata": {
    "collapsed": true
   },
   "outputs": [],
   "source": [
    "y_pred = NN_model.predict(X_test_mm_scaled.values)"
   ]
  },
  {
   "cell_type": "code",
   "execution_count": null,
   "metadata": {
    "collapsed": false
   },
   "outputs": [],
   "source": []
  },
  {
   "cell_type": "markdown",
   "metadata": {},
   "source": [
    "$R^2$ score and RMS error for MinMax scaled data set"
   ]
  },
  {
   "cell_type": "code",
   "execution_count": null,
   "metadata": {
    "collapsed": false
   },
   "outputs": [],
   "source": [
    "y_true = y_test_mm_scaled\n",
    "y_true_original_scale = scalerMy.inverse_transform(y_true)\n",
    "\n",
    "y_pred_original_scale = scalerMy.inverse_transform(y_pred)\n",
    "r2_NN_model = r2_score(y_true_original_scale, y_pred_original_scale)\n",
    "\n",
    "RMS_NN = np.sqrt(mean_squared_error(y_true_original_scale,y_pred_original_scale))\n",
    "\n",
    "print('R2 of Neural Network Model        : %5.2f' %r2_NN_model)\n",
    "print('RMS error of Neural Network Model : %5.2f' %RMS_NN)"
   ]
  },
  {
   "cell_type": "markdown",
   "metadata": {},
   "source": [
    "Plot of Results from neural network regression model"
   ]
  },
  {
   "cell_type": "code",
   "execution_count": null,
   "metadata": {
    "collapsed": false
   },
   "outputs": [],
   "source": [
    "plt.plot(y_true_original_scale,y_pred_original_scale,'bo');\n",
    "plt.plot([0,60],[0,60],'--g')\n",
    "plt.xlabel('observed');plt.ylabel('predicted');plt.grid(True)\n",
    "plt.show()"
   ]
  },
  {
   "cell_type": "code",
   "execution_count": null,
   "metadata": {
    "collapsed": true
   },
   "outputs": [],
   "source": []
  },
  {
   "cell_type": "markdown",
   "metadata": {},
   "source": [
    "## Neural Network Hyper-Parameter Tuning"
   ]
  },
  {
   "cell_type": "markdown",
   "metadata": {},
   "source": [
    "For consistent result, you should set __`random_state`__ attribute.\n",
    "\n",
    "**Performance of Linear regression and Neural Network** is compared with a scoring metric of **R2** (coefficient of determination).\n",
    "\n",
    "<s>Before splitting data using K-fold, regression data should be checked to make sure training and test datasets are evenly distributed across min and max of data sets.</s>\n",
    "\n",
    "\n"
   ]
  },
  {
   "cell_type": "markdown",
   "metadata": {},
   "source": [
    "### KFold Cross Validation Test"
   ]
  },
  {
   "cell_type": "code",
   "execution_count": null,
   "metadata": {
    "collapsed": false
   },
   "outputs": [],
   "source": [
    "# Neural network K-Fold Cross Validation\n",
    "from sklearn.model_selection import StratifiedKFold\n",
    "\n",
    "def KFoldNeuralNetwork(X_in,Y_in):\n",
    "    kf = KFold(n_splits=5, shuffle=True, random_state=None)\n",
    "    # plot data\n",
    "    for i,(train_index, test_index) in enumerate(kf.split(X_in)):\n",
    "        X_train, X_test = X_in[train_index], X_in[test_index]\n",
    "        y_train, y_test = Y_in[train_index],  Y_in[test_index]\n",
    "        NN_model = create_model_NN(hiddenLayer1=64)\n",
    "        NN_model.fit(X_train,y_train,epochs=1000,batch_size=X_train.shape[0],verbose=0)\n",
    "        y_pred = NN_model.predict(X_train)\n",
    "        y_true = y_train\n",
    "        r2_NN_model = r2_score(y_true, y_pred)\n",
    "        print('r2 %3.2f' %r2_NN_model)\n",
    "        \n",
    "# Linear Regression K-Fold Cross Validation\n",
    "def KFoldLinearRegression(X_in,Y_in):\n",
    "    kf = KFold(n_splits=5, shuffle=True, random_state=None)\n",
    "    print(kf)\n",
    "    for i,(train_index, test_index) in enumerate(kf.split(X_in)):\n",
    "        print(i)\n",
    "        X_train, X_test = X_in[train_index], X_in[test_index]\n",
    "        y_train, y_test = Y_in[train_index],  Y_in[test_index]\n",
    "        lR_model = LinearRegression()\n",
    "        lR_model.fit(X_train,y_train)\n",
    "        y_pred = lR_model.predict(X_test)\n",
    "        print( r2_score(y_test,y_pred))\n",
    "        \n",
    "def KFlodLinearRegressionAndNeuralNetworkComaprison(X_in,Y_in):\n",
    "    # KFold = 5, shuffle before choosing\n",
    "    kf = KFold(n_splits=5, shuffle=True, random_state=None)\n",
    "    \n",
    "    # R2 array\n",
    "    r2_NN_model =[] # R2 array for neural network model\n",
    "    r2_LR_model =[] # R2 array for Linear Regression model\n",
    "    \n",
    "    for i,(train_index, test_index) in enumerate(kf.split(X_in)):\n",
    "        X_train, X_test = X_in[train_index], X_in[test_index]\n",
    "        y_train, y_test = Y_in[train_index], Y_in[test_index]\n",
    "        \n",
    "        # Neural Network\n",
    "        NN_model = create_model_NN(hiddenLayer1=32,hiddenLayer2=8)\n",
    "        NN_model.fit(X_train,y_train,epochs=2000,batch_size=X_train.shape[0],verbose=0)\n",
    "        y_pred = NN_model.predict(X_test)\n",
    "        y_true = y_test\n",
    "        r2_NN_model.append(r2_score(y_true, y_pred))\n",
    "        \n",
    "        # Linear Regression\n",
    "        lR_model = LinearRegression()\n",
    "        lR_model.fit(X_train,y_train)\n",
    "        y_pred = lR_model.predict(X_test)\n",
    "        r2_LR_model.append(r2_score(y_true, y_pred))\n",
    "        \n",
    "        # Display progress\n",
    "        print('r2-NN: %3.2f, r2-LR:%3.2f' %(r2_NN_model[i],r2_LR_model[i]))\n",
    "    \n",
    "    # Display comparison results\n",
    "    print('=================================================================')        \n",
    "    print('Mean-r2-Neural Network: %3.2f, Mean-r2-Linear Regression:%3.2f' \\\n",
    "             %(np.mean(r2_NN_model), np.mean(r2_LR_model)))\n",
    "    print('=================================================================')\n",
    "    \n",
    "    return {'r2-nn': np.mean(r2_NN_model), 'r2-lr': np.mean(r2_LR_model)}\n",
    "    \n",
    "# Repeat 10 times and workout mean\n",
    "RepeatTrue = True\n",
    "if(RepeatTrue):\n",
    "    outList ={'r2-nn':[], 'r2-lr':[]}\n",
    "    noOfRepetition = 1\n",
    "    for i in range(noOfRepetition):\n",
    "        out = KFlodLinearRegressionAndNeuralNetworkComaprison(X.values,y)\n",
    "        outList['r2-nn'].append(out['r2-nn'])\n",
    "        outList['r2-lr'].append(out['r2-lr'])\n",
    "    print('************************************')    \n",
    "    print('r2-nn:%5.2f, r2-lr:%5.2f'    %(np.mean(outList['r2-nn']), np.mean(outList['r2-lr'])))\n",
    "    "
   ]
  },
  {
   "cell_type": "markdown",
   "metadata": {
    "collapsed": false
   },
   "source": [
    "### GridSearch Hyper Parameter Tuning"
   ]
  },
  {
   "cell_type": "code",
   "execution_count": null,
   "metadata": {
    "collapsed": false
   },
   "outputs": [],
   "source": [
    "# define the grid search parameters\n",
    "# instantiation of Keras Sequential Model\n",
    "from keras.wrappers.scikit_learn import KerasRegressor\n",
    "\n",
    "# Custom scoring function\n",
    "def myfunc(y_true,y_pred):\n",
    "    # function execution counter\n",
    "    myfunc.counter=vars(myfunc).setdefault('counter',0)\n",
    "    myfunc.counter+=1\n",
    "    # calculate R2\n",
    "    r2 = r2_score(y_true,y_pred)\n",
    "    \n",
    "    print('r2 : %3.1f, count:%d' %(r2,myfunc.counter) )\n",
    "    return r2\n",
    "\n",
    "# Instantiate custom scoring function using `make_scorer` method\n",
    "customR2 = make_scorer(score_func=myfunc)\n",
    "\n",
    "# Keras Regression \n",
    "grid = KerasRegressor(build_fn=create_model_NN, verbose=0)\n",
    "\n",
    "#grid parameter\n",
    "param_gridNN = {'epochs' : [500,1000]}\n",
    "\n",
    "# KFold\n",
    "kf = KFold(n_splits=5, shuffle=True, random_state=43)\n",
    "\n",
    "# grid search instance\n",
    "grid = GridSearchCV(estimator=grid, param_grid=param_gridNN, n_jobs=1,cv=kf ,scoring=customR2)\n",
    "\n",
    "# Start grid search\n",
    "grid_result = grid.fit(X_in,Y_in)"
   ]
  },
  {
   "cell_type": "code",
   "execution_count": null,
   "metadata": {
    "collapsed": false
   },
   "outputs": [],
   "source": [
    "# summarize results\n",
    "print(\"Best: %f using %s\" % (grid_result.best_score_, grid_result.best_params_))\n",
    "mean_test = grid_result.cv_results_['mean_test_score']\n",
    "mean_train = grid_result.cv_results_['mean_train_score']\n",
    "params = grid_result.cv_results_['params']\n",
    "for mean_train, mean_test, param in zip(mean_train, mean_test, params):\n",
    "    print(\"train:%f (test:%f) with: %r\" % (mean_train, mean_test, param))"
   ]
  },
  {
   "cell_type": "code",
   "execution_count": null,
   "metadata": {
    "collapsed": true
   },
   "outputs": [],
   "source": []
  },
  {
   "cell_type": "code",
   "execution_count": null,
   "metadata": {
    "collapsed": true
   },
   "outputs": [],
   "source": []
  },
  {
   "cell_type": "code",
   "execution_count": null,
   "metadata": {
    "collapsed": true
   },
   "outputs": [],
   "source": []
  }
 ],
 "metadata": {
  "kernelspec": {
   "display_name": "Python 3",
   "language": "python",
   "name": "python3"
  },
  "language_info": {
   "codemirror_mode": {
    "name": "ipython",
    "version": 3
   },
   "file_extension": ".py",
   "mimetype": "text/x-python",
   "name": "python",
   "nbconvert_exporter": "python",
   "pygments_lexer": "ipython3",
   "version": "3.6.0"
  },
  "toc": {
   "base_numbering": 1,
   "nav_menu": {},
   "number_sections": true,
   "sideBar": true,
   "skip_h1_title": false,
   "title_cell": "Table of Contents",
   "title_sidebar": "Contents",
   "toc_cell": false,
   "toc_position": {},
   "toc_section_display": true,
   "toc_window_display": false
  },
  "varInspector": {
   "cols": {
    "lenName": 16,
    "lenType": 16,
    "lenVar": 40
   },
   "kernels_config": {
    "python": {
     "delete_cmd_postfix": "",
     "delete_cmd_prefix": "del ",
     "library": "var_list.py",
     "varRefreshCmd": "print(var_dic_list())"
    },
    "r": {
     "delete_cmd_postfix": ") ",
     "delete_cmd_prefix": "rm(",
     "library": "var_list.r",
     "varRefreshCmd": "cat(var_dic_list()) "
    }
   },
   "types_to_exclude": [
    "module",
    "function",
    "builtin_function_or_method",
    "instance",
    "_Feature"
   ],
   "window_display": false
  }
 },
 "nbformat": 4,
 "nbformat_minor": 2
}
