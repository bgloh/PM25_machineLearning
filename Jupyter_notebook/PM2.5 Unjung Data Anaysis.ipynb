{
 "cells": [
  {
   "cell_type": "markdown",
   "metadata": {},
   "source": [
    "## PM2.5 Data Analysis- 운중동 측정 Data\n",
    "Nov. 16, 2017"
   ]
  },
  {
   "cell_type": "code",
   "execution_count": 1,
   "metadata": {
    "collapsed": false
   },
   "outputs": [],
   "source": [
    "import pandas as pd\n",
    "import numpy as np\n",
    "import matplotlib.pyplot as plt\n",
    "%matplotlib inline"
   ]
  },
  {
   "cell_type": "markdown",
   "metadata": {},
   "source": [
    "Convert downloaded PM2.5 data into pandas data frame\n",
    "The data is download from "
   ]
  },
  {
   "cell_type": "code",
   "execution_count": 2,
   "metadata": {
    "collapsed": false
   },
   "outputs": [
    {
     "data": {
      "text/plain": [
       "(358, 19)"
      ]
     },
     "execution_count": 2,
     "metadata": {},
     "output_type": "execute_result"
    }
   ],
   "source": [
    "data_raw = pd.read_csv('./csv/dustData1.csv')\n",
    "data_raw.shape"
   ]
  },
  {
   "cell_type": "markdown",
   "metadata": {},
   "source": [
    "### To read Govenrment station data, you need to follow the below procedures. \n",
    "First, the date time format should be changed and type of date-time also needs to be converted Pandas date-time format"
   ]
  },
  {
   "cell_type": "code",
   "execution_count": 3,
   "metadata": {
    "collapsed": false
   },
   "outputs": [
    {
     "name": "stdout",
     "output_type": "stream",
     "text": [
      "                 PM2.5_1HR  PM2.5_24HR\n",
      "date       hour                       \n",
      "2016-10-13 0          32.0        25.0\n",
      "           9           8.0        17.0\n",
      "           10         26.0        19.0\n",
      "           11         24.0        19.0\n",
      "           12         27.0        21.0\n",
      "           13         22.0        23.0\n",
      "           14         18.0        22.0\n",
      "           15         20.0        21.0\n",
      "           16         27.0        21.0\n",
      "           17         24.0        22.0\n",
      "           18         32.0        23.0\n",
      "           19         28.0        24.0\n",
      "           20         22.0        24.0\n",
      "           21         29.0        25.0\n",
      "           22         22.0        25.0\n",
      "           23         26.0        25.0\n",
      "2016-10-14 0          82.0        60.0\n",
      "           1          27.0        25.0\n",
      "           2          33.0        26.0\n",
      "           3          30.0        26.0\n",
      "           4          26.0        26.0\n",
      "           5          26.0        26.0\n",
      "           6          28.0        27.0\n",
      "           7          30.0        27.0\n",
      "           8          29.0        27.0\n",
      "           9          27.0        27.0\n",
      "           10         26.0        27.0\n",
      "           11         28.0        28.0\n",
      "           12         35.0        28.0\n",
      "           13         41.0        29.0\n",
      "...                    ...         ...\n",
      "2016-10-27 0          14.0        17.0\n",
      "           1          36.0        29.0\n",
      "           2          28.0        29.0\n",
      "           3          28.0        29.0\n",
      "           4          30.0        28.0\n",
      "           5          33.0        28.0\n",
      "           6          28.0        28.0\n",
      "           7          21.0        27.0\n",
      "           8          20.0        26.0\n",
      "           9          13.0        24.0\n",
      "           10         27.0        24.0\n",
      "           11         14.0        22.0\n",
      "           12         21.0        22.0\n",
      "           13         17.0        22.0\n",
      "           14         20.0        20.0\n",
      "           15         15.0        20.0\n",
      "           16         10.0        18.0\n",
      "           17         22.0        18.0\n",
      "           18         21.0        18.0\n",
      "           19         12.0        17.0\n",
      "           20         16.0        18.0\n",
      "           21         21.0        18.0\n",
      "           22         20.0        17.0\n",
      "           23         16.0        18.0\n",
      "2016-10-28 1          27.0        19.0\n",
      "           2          16.0        18.0\n",
      "           3          21.0        19.0\n",
      "           4          18.0        20.0\n",
      "           5          14.0        18.0\n",
      "           6          21.0        18.0\n",
      "\n",
      "[358 rows x 2 columns]\n"
     ]
    }
   ],
   "source": [
    "\n",
    "# convert date_time into a new format YYYY-MM-DD:HH MM SS'\n",
    "def convertDateTimeFormat(dateTime):\n",
    "    dateTimeString =[] # empty vector to store date time\n",
    "    for d in dateTime:\n",
    "        date = d.split(':')[0]\n",
    "        hour = d.split(':')[1]\n",
    "        if hour == '24':\n",
    "            hour = '0' + ':00:00'\n",
    "        else:\n",
    "            hour = hour + ':00:00'\n",
    "        dateTimeString.append(date + ' ' + hour) # append a new formatted data to date-time vector\n",
    "    dateTimeSeries = pd.Series(dateTimeString) # convert to pandas Series\n",
    "    return pd.to_datetime(dateTimeSeries)\n",
    "\n",
    "# read data time string \n",
    "date_time = data_raw.ix[:,0]\n",
    "# read PM2.5 1HR measurement\n",
    "PM2_5_1HR = data_raw.ix[:,7]\n",
    "# read PM2.5 24HR measurement\n",
    "PM2_5_24HR = data_raw.ix[:,8]\n",
    "\n",
    "# convert date-time into a new format\n",
    "date_time = convertDateTimeFormat(date_time)\n",
    "\n",
    "data  = pd.concat([date_time.dt.date, date_time.dt.hour, PM2_5_1HR, PM2_5_24HR],axis=1)\n",
    "data.columns = ['date', 'hour', 'PM2.5_1HR','PM2.5_24HR']\n",
    "#data.set_index('dateTime',inplace=True) # set date-time as index\n",
    "\n",
    "print(data.groupby(['date','hour']).mean())"
   ]
  },
  {
   "cell_type": "markdown",
   "metadata": {},
   "source": [
    "## Import Sharp PM2.5 Measuring Device Data"
   ]
  },
  {
   "cell_type": "code",
   "execution_count": 4,
   "metadata": {
    "collapsed": false
   },
   "outputs": [
    {
     "data": {
      "text/plain": [
       "(2629, 8)"
      ]
     },
     "execution_count": 4,
     "metadata": {},
     "output_type": "execute_result"
    }
   ],
   "source": [
    "data_raw = pd.read_csv('./csv/EunJung data Analysis.csv')\n",
    "data_raw.shape"
   ]
  },
  {
   "cell_type": "code",
   "execution_count": 5,
   "metadata": {
    "collapsed": false
   },
   "outputs": [
    {
     "data": {
      "text/html": [
       "<div>\n",
       "<table border=\"1\" class=\"dataframe\">\n",
       "  <thead>\n",
       "    <tr style=\"text-align: right;\">\n",
       "      <th></th>\n",
       "      <th>id</th>\n",
       "      <th>time</th>\n",
       "      <th>elapsed time</th>\n",
       "      <th>temperature</th>\n",
       "      <th>humidity</th>\n",
       "      <th>PM2_5</th>\n",
       "      <th>MovingAverage</th>\n",
       "      <th>BatteryStatus</th>\n",
       "    </tr>\n",
       "  </thead>\n",
       "  <tbody>\n",
       "    <tr>\n",
       "      <th>0</th>\n",
       "      <td>8</td>\n",
       "      <td>10/20/2016 10:00:15</td>\n",
       "      <td>0</td>\n",
       "      <td>203</td>\n",
       "      <td>731</td>\n",
       "      <td>587</td>\n",
       "      <td>599</td>\n",
       "      <td>0</td>\n",
       "    </tr>\n",
       "    <tr>\n",
       "      <th>1</th>\n",
       "      <td>9</td>\n",
       "      <td>10/20/2016 10:01:20</td>\n",
       "      <td>43201</td>\n",
       "      <td>202</td>\n",
       "      <td>733</td>\n",
       "      <td>588</td>\n",
       "      <td>598</td>\n",
       "      <td>0</td>\n",
       "    </tr>\n",
       "    <tr>\n",
       "      <th>2</th>\n",
       "      <td>10</td>\n",
       "      <td>10/20/2016 10:02:25</td>\n",
       "      <td>43202</td>\n",
       "      <td>202</td>\n",
       "      <td>734</td>\n",
       "      <td>625</td>\n",
       "      <td>595</td>\n",
       "      <td>0</td>\n",
       "    </tr>\n",
       "    <tr>\n",
       "      <th>3</th>\n",
       "      <td>11</td>\n",
       "      <td>10/20/2016 10:03:31</td>\n",
       "      <td>43203</td>\n",
       "      <td>202</td>\n",
       "      <td>735</td>\n",
       "      <td>591</td>\n",
       "      <td>596</td>\n",
       "      <td>0</td>\n",
       "    </tr>\n",
       "    <tr>\n",
       "      <th>4</th>\n",
       "      <td>12</td>\n",
       "      <td>10/20/2016 10:04:36</td>\n",
       "      <td>43204</td>\n",
       "      <td>202</td>\n",
       "      <td>735</td>\n",
       "      <td>582</td>\n",
       "      <td>597</td>\n",
       "      <td>0</td>\n",
       "    </tr>\n",
       "  </tbody>\n",
       "</table>\n",
       "</div>"
      ],
      "text/plain": [
       "   id                 time  elapsed time  temperature  humidity  PM2_5  \\\n",
       "0   8  10/20/2016 10:00:15             0          203       731    587   \n",
       "1   9  10/20/2016 10:01:20         43201          202       733    588   \n",
       "2  10  10/20/2016 10:02:25         43202          202       734    625   \n",
       "3  11  10/20/2016 10:03:31         43203          202       735    591   \n",
       "4  12  10/20/2016 10:04:36         43204          202       735    582   \n",
       "\n",
       "   MovingAverage  BatteryStatus  \n",
       "0            599              0  \n",
       "1            598              0  \n",
       "2            595              0  \n",
       "3            596              0  \n",
       "4            597              0  "
      ]
     },
     "execution_count": 5,
     "metadata": {},
     "output_type": "execute_result"
    }
   ],
   "source": [
    "data_raw.head()"
   ]
  },
  {
   "cell_type": "code",
   "execution_count": 6,
   "metadata": {
    "collapsed": false
   },
   "outputs": [
    {
     "name": "stdout",
     "output_type": "stream",
     "text": [
      "     dateTime  hour  minute  temperature  humidity  PM2_5\n",
      "0  2016-10-20    10       0         20.3      73.1    587\n",
      "1  2016-10-20    10       1         20.2      73.3    588\n",
      "2  2016-10-20    10       2         20.2      73.4    625\n",
      "3  2016-10-20    10       3         20.2      73.5    591\n",
      "4  2016-10-20    10       4         20.2      73.5    582\n"
     ]
    },
    {
     "data": {
      "text/plain": [
       "Index(['minute', 'temperature', 'humidity', 'PM2_5'], dtype='object')"
      ]
     },
     "execution_count": 6,
     "metadata": {},
     "output_type": "execute_result"
    }
   ],
   "source": [
    "# read Sharp PM2.5 measuring device data\n",
    "date_time = data_raw.ix[:,1]\n",
    "date_time = pd.to_datetime(date_time)\n",
    "temperature = data_raw.ix[:,3]/10 # degrees\n",
    "humidity = data_raw.ix[:,4]/10 # %\n",
    "PM2_5 = data_raw.ix[:,5] # mili-volts\n",
    "\n",
    "dataSharp = pd.concat([date_time.dt.date, date_time.dt.hour,date_time.dt.minute,temperature,humidity,PM2_5], axis=1)\n",
    "dataSharp.columns = ['dateTime','hour','minute','temperature','humidity','PM2_5']\n",
    "print(dataSharp.head())\n",
    "PM2_5_hourly_mean = dataSharp.groupby(['dateTime','hour']).mean()\n",
    "PM2_5_hourly_mean.head()\n",
    "PM2_5_hourly_mean.keys()\n",
    "#plt.plot(PM2_5_hourly_mean['PM2_5'])"
   ]
  },
  {
   "cell_type": "markdown",
   "metadata": {},
   "source": [
    "#### Plot of measurement of portable device : Raw and Moving Averaged\n",
    " <span style='color:red'> **FIGURE**  </span>"
   ]
  },
  {
   "cell_type": "code",
   "execution_count": 93,
   "metadata": {
    "collapsed": false
   },
   "outputs": [
    {
     "name": "stderr",
     "output_type": "stream",
     "text": [
      "/home/brian/anaconda3_1/lib/python3.6/site-packages/ipykernel_launcher.py:4: FutureWarning: pd.rolling_mean is deprecated for Series and will be removed in a future version, replace with \n",
      "\tSeries.rolling(window=60,center=False).mean()\n",
      "  after removing the cwd from sys.path.\n"
     ]
    },
    {
     "data": {
      "image/png": "[encoded data removed]",
      "text/plain": [
       "<matplotlib.figure.Figure at 0x7f75a938de80>"
      ]
     },
     "metadata": {},
     "output_type": "display_data"
    }
   ],
   "source": [
    "time_min = np.arange(0,dataSharp['PM2_5'].shape[0],1)\n",
    "pm25 = dataSharp['PM2_5']\n",
    "windowM = 60\n",
    "pm25_moving_averaged = pd.rolling_mean(pm25,window=windowM)\n",
    "plt.figure(figsize=(8,6))\n",
    "hourD =  10 \n",
    "plt.plot(time_min[:hourD*60]/60,pm25[:hourD*60],'-k.',markersize=6,lw=1,alpha=0.5,label='raw data')\n",
    "plt.plot(time_min[:hourD*60]/60,pm25_moving_averaged[:hourD*60],'r',markersize=6,lw=3, \\\n",
    "           alpha=1,label='%d'%windowM + ' sample moving-averaged')\n",
    "plt.xlabel('Time[hour]',fontsize=14)\n",
    "plt.ylabel('Measurement of Portable Device [mv]',fontsize=14)\n",
    "plt.tick_params(labelsize = 14)\n",
    "plt.xlim([0-0.1,hourD+0.1]);plt.ylim([350-5,450+5])\n",
    "plt.legend()\n",
    "\n",
    "savefigure = True\n",
    "if savefigure==True:\n",
    "    plt.savefig('./fig_Regression/Device_raw_voltage.png', dpi=600,bbox_inches='tight')\n",
    "    \n",
    "plt.show()\n"
   ]
  },
  {
   "cell_type": "markdown",
   "metadata": {
    "collapsed": false
   },
   "source": [
    "## Sharp Data Test\n",
    "csv file name = excel file name - sheet name"
   ]
  },
  {
   "cell_type": "code",
   "execution_count": 8,
   "metadata": {
    "collapsed": false
   },
   "outputs": [],
   "source": [
    "data_sharp = pd.read_csv('./csv/CC3200 Sharp Sensor PM2_5 Test-Rm229-5-16-2017.csv')\n",
    "#data_sharp = pd.read_csv('./csv/CC3200 Sharp Sensor PM2_5 Test.csv')\n",
    "#data_sharp = pd.read_excel('./xls/CC3200 Sharp Sensor PM2_5 Test.xlsx', sheetname='Rm229-5-16-2017')"
   ]
  },
  {
   "cell_type": "code",
   "execution_count": 9,
   "metadata": {
    "collapsed": false
   },
   "outputs": [
    {
     "data": {
      "text/html": [
       "<div>\n",
       "<table border=\"1\" class=\"dataframe\">\n",
       "  <thead>\n",
       "    <tr style=\"text-align: right;\">\n",
       "      <th></th>\n",
       "      <th>id</th>\n",
       "      <th>time</th>\n",
       "      <th>temperature</th>\n",
       "      <th>humidity</th>\n",
       "      <th>PM2_5</th>\n",
       "      <th>MovingAverage</th>\n",
       "      <th>BatteryStatus</th>\n",
       "    </tr>\n",
       "  </thead>\n",
       "  <tbody>\n",
       "    <tr>\n",
       "      <th>0</th>\n",
       "      <td>0</td>\n",
       "      <td>05/16/2017 17:58:03</td>\n",
       "      <td>249</td>\n",
       "      <td>423</td>\n",
       "      <td>423</td>\n",
       "      <td>197</td>\n",
       "      <td>0</td>\n",
       "    </tr>\n",
       "    <tr>\n",
       "      <th>1</th>\n",
       "      <td>1</td>\n",
       "      <td>05/16/2017 17:59:05</td>\n",
       "      <td>246</td>\n",
       "      <td>425</td>\n",
       "      <td>427</td>\n",
       "      <td>1699</td>\n",
       "      <td>0</td>\n",
       "    </tr>\n",
       "    <tr>\n",
       "      <th>2</th>\n",
       "      <td>2</td>\n",
       "      <td>05/16/2017 18:00:03</td>\n",
       "      <td>245</td>\n",
       "      <td>430</td>\n",
       "      <td>424</td>\n",
       "      <td>419</td>\n",
       "      <td>0</td>\n",
       "    </tr>\n",
       "    <tr>\n",
       "      <th>3</th>\n",
       "      <td>3</td>\n",
       "      <td>05/16/2017 18:01:05</td>\n",
       "      <td>243</td>\n",
       "      <td>435</td>\n",
       "      <td>418</td>\n",
       "      <td>416</td>\n",
       "      <td>0</td>\n",
       "    </tr>\n",
       "    <tr>\n",
       "      <th>4</th>\n",
       "      <td>4</td>\n",
       "      <td>05/16/2017 18:02:04</td>\n",
       "      <td>243</td>\n",
       "      <td>439</td>\n",
       "      <td>423</td>\n",
       "      <td>418</td>\n",
       "      <td>0</td>\n",
       "    </tr>\n",
       "  </tbody>\n",
       "</table>\n",
       "</div>"
      ],
      "text/plain": [
       "   id                 time  temperature  humidity  PM2_5  MovingAverage  \\\n",
       "0   0  05/16/2017 17:58:03          249       423    423            197   \n",
       "1   1  05/16/2017 17:59:05          246       425    427           1699   \n",
       "2   2  05/16/2017 18:00:03          245       430    424            419   \n",
       "3   3  05/16/2017 18:01:05          243       435    418            416   \n",
       "4   4  05/16/2017 18:02:04          243       439    423            418   \n",
       "\n",
       "   BatteryStatus  \n",
       "0              0  \n",
       "1              0  \n",
       "2              0  \n",
       "3              0  \n",
       "4              0  "
      ]
     },
     "execution_count": 9,
     "metadata": {},
     "output_type": "execute_result"
    }
   ],
   "source": [
    "data_sharp.head()"
   ]
  },
  {
   "cell_type": "code",
   "execution_count": 10,
   "metadata": {
    "collapsed": false
   },
   "outputs": [],
   "source": [
    "# read Sharp PM2.5 measuring device data\n",
    "date_time = pd.to_datetime(data_sharp['time'])\n",
    "temperature = data_sharp['temperature']/10 # degrees\n",
    "humidity = data_sharp['humidity']/10 # %\n",
    "PM2_5 = data_sharp['PM2_5'] # mili-volts\n",
    "\n",
    "dataSharp = pd.concat([date_time.dt.date, date_time.dt.hour,date_time.dt.minute,temperature,humidity,PM2_5], axis=1)\n",
    "dataSharp.columns = ['dateTime','hour','minute','temperature','humidity','PM2_5']\n",
    "#print(dataSharp.head())\n",
    "\n",
    "# average PM2.5 sensor measurement for an hour\n",
    "PM2_5_hourly_mean = dataSharp.groupby(['dateTime','hour']).mean()\n",
    "PM2_5_hourly_mean_copy = PM2_5_hourly_mean.copy()\n",
    "\n",
    "# reset index for time format addition\n",
    "PM2_5_ResetIndex = PM2_5_hourly_mean_copy.reset_index()\n"
   ]
  },
  {
   "cell_type": "code",
   "execution_count": 11,
   "metadata": {
    "collapsed": false
   },
   "outputs": [
    {
     "data": {
      "image/png": "[encoded data removed]",
      "text/plain": [
       "<matplotlib.figure.Figure at 0x7f75bb274240>"
      ]
     },
     "metadata": {},
     "output_type": "display_data"
    }
   ],
   "source": [
    "# time format correction\n",
    "timeString = PM2_5_ResetIndex['hour'].apply(lambda x  : '0{}:00:00'.format(x) if x<10 else  '{}:00:00'.format(x))\n",
    "DateTimeString = PM2_5_ResetIndex['dateTime'].astype(str) + ' ' + timeString\n",
    "newDateTime = pd.to_datetime(DateTimeString)\n",
    "PM2_5_ResetIndex['newDateTime'] = newDateTime\n",
    "plt.figure(figsize=(15,5))\n",
    "plt.plot(PM2_5_ResetIndex['newDateTime'], PM2_5_ResetIndex['PM2_5'],'co')\n",
    "plt.xlabel('date time')\n",
    "plt.ylabel('measured voltage of Shapr sensor(mv)')\n",
    "plt.grid()"
   ]
  },
  {
   "cell_type": "markdown",
   "metadata": {},
   "source": [
    "### Let's turn the above procedures into a function for csv data processing into Pandas dataframe"
   ]
  },
  {
   "cell_type": "code",
   "execution_count": 12,
   "metadata": {
    "collapsed": false
   },
   "outputs": [],
   "source": [
    "# A function that takes csv file and turn it into Pandas data frame.\n",
    "# returns dataframe with a plot\n",
    "def csvProcessing(filePath):\n",
    "    # filePath is file path string \n",
    "    # data_sharp = pd.read_csv('./csv/CC3200 Sharp Sensor PM2_5 Test.csv')\n",
    "    data_sharp = pd.read_csv(filePath)\n",
    "    # read Sharp PM2.5 measuring device data\n",
    "    date_time = pd.to_datetime(data_sharp['time'])\n",
    "    temperature = data_sharp['temperature']/10 # degrees\n",
    "    humidity = data_sharp['humidity']/10 # %\n",
    "    PM2_5 = data_sharp['PM2_5'] # mili-volts\n",
    "    dataSharp = pd.concat([date_time.dt.date, date_time.dt.hour,date_time.dt.minute,temperature,humidity,PM2_5], axis=1)\n",
    "    dataSharp.columns = ['date','hour','minute','temperature','humidity','PM25']\n",
    "    # average PM2.5 sensor measurement for an hour\n",
    "    PM2_5_hourly_mean = dataSharp.groupby(['date','hour']).mean()\n",
    "    PM2_5_hourly_mean_copy = PM2_5_hourly_mean.copy()\n",
    "    # reset index for time format addition\n",
    "    PM2_5_ResetIndex = PM2_5_hourly_mean_copy.reset_index()\n",
    "    # time format correction\n",
    "    timeString = PM2_5_ResetIndex['hour'].apply(lambda x  : '0{}'.format(x) if x<10 else  '{}'.format(x))\n",
    "    DateTimeString = PM2_5_ResetIndex['date'].astype(str) + ' ' + timeString\n",
    "    newDateTime = pd.to_datetime(DateTimeString)\n",
    "    PM2_5_ResetIndex['dateTime'] = newDateTime\n",
    "    plt.figure(figsize=(15,5))\n",
    "    plt.plot(PM2_5_ResetIndex['dateTime'], PM2_5_ResetIndex['PM25'],'co')\n",
    "    plt.xlabel('date')\n",
    "    plt.ylabel('measured voltage of Shapr sensor(mv)')\n",
    "    plt.grid()\n",
    "    return PM2_5_ResetIndex"
   ]
  },
  {
   "cell_type": "markdown",
   "metadata": {},
   "source": [
    "Convert sharp data csv into pandas dataframe"
   ]
  },
  {
   "cell_type": "code",
   "execution_count": 13,
   "metadata": {
    "collapsed": false
   },
   "outputs": [
    {
     "data": {
      "text/html": [
       "<div>\n",
       "<table border=\"1\" class=\"dataframe\">\n",
       "  <thead>\n",
       "    <tr style=\"text-align: right;\">\n",
       "      <th></th>\n",
       "      <th>dateTime</th>\n",
       "      <th>temperature</th>\n",
       "      <th>humidity</th>\n",
       "      <th>PM25</th>\n",
       "    </tr>\n",
       "  </thead>\n",
       "  <tbody>\n",
       "    <tr>\n",
       "      <th>0</th>\n",
       "      <td>2017-05-22 10:00:00</td>\n",
       "      <td>24.933333</td>\n",
       "      <td>51.266667</td>\n",
       "      <td>421.333333</td>\n",
       "    </tr>\n",
       "    <tr>\n",
       "      <th>1</th>\n",
       "      <td>2017-05-22 11:00:00</td>\n",
       "      <td>25.523333</td>\n",
       "      <td>49.233333</td>\n",
       "      <td>413.033333</td>\n",
       "    </tr>\n",
       "  </tbody>\n",
       "</table>\n",
       "</div>"
      ],
      "text/plain": [
       "             dateTime  temperature   humidity        PM25\n",
       "0 2017-05-22 10:00:00    24.933333  51.266667  421.333333\n",
       "1 2017-05-22 11:00:00    25.523333  49.233333  413.033333"
      ]
     },
     "execution_count": 13,
     "metadata": {},
     "output_type": "execute_result"
    },
    {
     "data": {
      "image/png": "[encoded data removed]",
      "text/plain": [
       "<matplotlib.figure.Figure at 0x7f75bb297ba8>"
      ]
     },
     "metadata": {},
     "output_type": "display_data"
    }
   ],
   "source": [
    "file_path = './csv/CC3200 Sharp Sensor PM2_5 Test-Rm229-5-22-2017.csv'\n",
    "df1=csvProcessing(file_path)\n",
    "# select only dateTime, temperature, humidity, and PM25\n",
    "df1 = df1.ix[:,['dateTime','temperature','humidity','PM25']]\n",
    "df1.head(2)"
   ]
  },
  {
   "cell_type": "code",
   "execution_count": 14,
   "metadata": {
    "collapsed": false
   },
   "outputs": [
    {
     "data": {
      "text/html": [
       "<div>\n",
       "<table border=\"1\" class=\"dataframe\">\n",
       "  <thead>\n",
       "    <tr style=\"text-align: right;\">\n",
       "      <th></th>\n",
       "      <th>dateTime</th>\n",
       "      <th>temperature</th>\n",
       "      <th>humidity</th>\n",
       "      <th>PM25</th>\n",
       "    </tr>\n",
       "  </thead>\n",
       "  <tbody>\n",
       "    <tr>\n",
       "      <th>0</th>\n",
       "      <td>2017-05-16 17:00:00</td>\n",
       "      <td>24.750000</td>\n",
       "      <td>42.400000</td>\n",
       "      <td>425.000000</td>\n",
       "    </tr>\n",
       "    <tr>\n",
       "      <th>1</th>\n",
       "      <td>2017-05-16 18:00:00</td>\n",
       "      <td>24.043333</td>\n",
       "      <td>46.708333</td>\n",
       "      <td>417.716667</td>\n",
       "    </tr>\n",
       "  </tbody>\n",
       "</table>\n",
       "</div>"
      ],
      "text/plain": [
       "             dateTime  temperature   humidity        PM25\n",
       "0 2017-05-16 17:00:00    24.750000  42.400000  425.000000\n",
       "1 2017-05-16 18:00:00    24.043333  46.708333  417.716667"
      ]
     },
     "execution_count": 14,
     "metadata": {},
     "output_type": "execute_result"
    },
    {
     "data": {
      "image/png": "[encoded data removed]",
      "text/plain": [
       "<matplotlib.figure.Figure at 0x7f75b790f550>"
      ]
     },
     "metadata": {},
     "output_type": "display_data"
    }
   ],
   "source": [
    "file_path = './csv/CC3200 Sharp Sensor PM2_5 Test-Rm229-5-16-2017.csv'\n",
    "df2=csvProcessing(file_path)\n",
    "# select only dateTime, temperature, humidity, and PM25\n",
    "df2 = df2.ix[:,['dateTime','temperature','humidity','PM25']]\n",
    "df2.head(2)"
   ]
  },
  {
   "cell_type": "markdown",
   "metadata": {},
   "source": [
    "#### Combine multiple dataframes into one dataframe\n",
    "Combine two separate Sharp measurments into one DataFrame"
   ]
  },
  {
   "cell_type": "code",
   "execution_count": 15,
   "metadata": {
    "collapsed": false
   },
   "outputs": [
    {
     "data": {
      "text/html": [
       "<div>\n",
       "<table border=\"1\" class=\"dataframe\">\n",
       "  <thead>\n",
       "    <tr style=\"text-align: right;\">\n",
       "      <th></th>\n",
       "      <th>dateTime</th>\n",
       "      <th>temperature</th>\n",
       "      <th>humidity</th>\n",
       "      <th>PM25</th>\n",
       "    </tr>\n",
       "  </thead>\n",
       "  <tbody>\n",
       "    <tr>\n",
       "      <th>0</th>\n",
       "      <td>2017-05-16 17:00:00</td>\n",
       "      <td>24.750000</td>\n",
       "      <td>42.400000</td>\n",
       "      <td>425.000000</td>\n",
       "    </tr>\n",
       "    <tr>\n",
       "      <th>1</th>\n",
       "      <td>2017-05-16 18:00:00</td>\n",
       "      <td>24.043333</td>\n",
       "      <td>46.708333</td>\n",
       "      <td>417.716667</td>\n",
       "    </tr>\n",
       "  </tbody>\n",
       "</table>\n",
       "</div>"
      ],
      "text/plain": [
       "             dateTime  temperature   humidity        PM25\n",
       "0 2017-05-16 17:00:00    24.750000  42.400000  425.000000\n",
       "1 2017-05-16 18:00:00    24.043333  46.708333  417.716667"
      ]
     },
     "execution_count": 15,
     "metadata": {},
     "output_type": "execute_result"
    }
   ],
   "source": [
    "dataframe1 = df1\n",
    "dataframe2 = df2\n",
    "dataframe_total = pd.concat([dataframe1,dataframe2])\n",
    "dataframe_total.sort_values(by='dateTime', inplace=True) # sort by date time\n",
    "dataframe_total.head(2)"
   ]
  },
  {
   "cell_type": "markdown",
   "metadata": {},
   "source": [
    "Plot"
   ]
  },
  {
   "cell_type": "code",
   "execution_count": 16,
   "metadata": {
    "collapsed": false
   },
   "outputs": [
    {
     "data": {
      "image/png": "[encoded data removed]",
      "text/plain": [
       "<matplotlib.figure.Figure at 0x7f75b7917da0>"
      ]
     },
     "metadata": {},
     "output_type": "display_data"
    }
   ],
   "source": [
    "plt.figure(figsize=(15,5))\n",
    "x_axis_data = dataframe_total['dateTime']\n",
    "y_axis_data = dataframe_total['PM25']\n",
    "plt.plot(x_axis_data,y_axis_data,'ko')\n",
    "plt.xlabel('date'),plt.ylabel('Sharp PM2.5 sensor voltage(mv)'),plt.grid()\n",
    "plt.title('Sharp PM2.5 Measurement Data');"
   ]
  },
  {
   "cell_type": "markdown",
   "metadata": {},
   "source": [
    "### Read Unjung-dong Government station data\n",
    "Data file is in csv format and stored in ./csv folder."
   ]
  },
  {
   "cell_type": "code",
   "execution_count": 17,
   "metadata": {
    "collapsed": false
   },
   "outputs": [],
   "source": [
    "filePath = './csv/data_Unjung_2017_5.csv'\n",
    "data_Unjung = pd.read_csv(filePath)"
   ]
  },
  {
   "cell_type": "code",
   "execution_count": 18,
   "metadata": {
    "collapsed": false
   },
   "outputs": [
    {
     "data": {
      "text/plain": [
       "[        dateTime  PM25_1HR  PM25_24HR\n",
       " 0  2017-05-25:11      16.0       15.0\n",
       " 1  2017-05-25:10      21.0       15.0, (227, 3)]"
      ]
     },
     "execution_count": 18,
     "metadata": {},
     "output_type": "execute_result"
    }
   ],
   "source": [
    "[data_Unjung.head(2), data_Unjung.shape]"
   ]
  },
  {
   "cell_type": "code",
   "execution_count": 19,
   "metadata": {
    "collapsed": false
   },
   "outputs": [],
   "source": [
    "# read data time string \n",
    "date_time = data_Unjung['dateTime']\n",
    "\n",
    "# read PM2.5 1HR measurement\n",
    "PM2_5_1HR = data_Unjung['PM25_1HR']\n",
    "\n",
    "# read PM2.5 24HR measurement\n",
    "# PM2_5_24HR = data_Unjung['PM25_24HR']"
   ]
  },
  {
   "cell_type": "markdown",
   "metadata": {},
   "source": [
    "Convert data time string into Pandas date-time format\n",
    "ex: 2017-05-23 23:00:00"
   ]
  },
  {
   "cell_type": "code",
   "execution_count": 20,
   "metadata": {
    "collapsed": false
   },
   "outputs": [],
   "source": [
    "date_time = convertDateTimeFormat(date_time)"
   ]
  },
  {
   "cell_type": "markdown",
   "metadata": {},
   "source": [
    "Any column can be made as an index of DataFrame by using pd.pivot_table method.\n",
    "This is just for reference using Pandas pivot_table method. \n",
    "It is not necessary for current PM2.5 data analysis. \n",
    "To change dataframe index use pivot_table method and uncomment below."
   ]
  },
  {
   "cell_type": "code",
   "execution_count": 21,
   "metadata": {
    "collapsed": false
   },
   "outputs": [],
   "source": [
    "#pd.pivot_table(data_Unjung,index=['dateTime']).head(2)"
   ]
  },
  {
   "cell_type": "markdown",
   "metadata": {},
   "source": [
    "Concate pandas series data columnwise. Note axis=1 option setting in pd.concat method."
   ]
  },
  {
   "cell_type": "code",
   "execution_count": 22,
   "metadata": {
    "collapsed": false
   },
   "outputs": [
    {
     "data": {
      "text/html": [
       "<div>\n",
       "<table border=\"1\" class=\"dataframe\">\n",
       "  <thead>\n",
       "    <tr style=\"text-align: right;\">\n",
       "      <th></th>\n",
       "      <th>dateTime</th>\n",
       "      <th>PM25_1HR</th>\n",
       "    </tr>\n",
       "  </thead>\n",
       "  <tbody>\n",
       "    <tr>\n",
       "      <th>0</th>\n",
       "      <td>2017-05-25 11:00:00</td>\n",
       "      <td>16.0</td>\n",
       "    </tr>\n",
       "    <tr>\n",
       "      <th>1</th>\n",
       "      <td>2017-05-25 10:00:00</td>\n",
       "      <td>21.0</td>\n",
       "    </tr>\n",
       "  </tbody>\n",
       "</table>\n",
       "</div>"
      ],
      "text/plain": [
       "             dateTime  PM25_1HR\n",
       "0 2017-05-25 11:00:00      16.0\n",
       "1 2017-05-25 10:00:00      21.0"
      ]
     },
     "execution_count": 22,
     "metadata": {},
     "output_type": "execute_result"
    }
   ],
   "source": [
    "series1 = date_time\n",
    "series2 = PM2_5_1HR\n",
    "data_Unjung = pd.concat([series1,series2],axis=1)\n",
    "pandas_dataframe_column_string = ['dateTime','PM25_1HR']\n",
    "data_Unjung.columns= pandas_dataframe_column_string\n",
    "data_Unjung.head(2)"
   ]
  },
  {
   "cell_type": "markdown",
   "metadata": {},
   "source": [
    "### Plot Unjung-dong measurements data"
   ]
  },
  {
   "cell_type": "code",
   "execution_count": 23,
   "metadata": {
    "collapsed": false
   },
   "outputs": [
    {
     "data": {
      "image/png": "[encoded data removed]",
      "text/plain": [
       "<matplotlib.figure.Figure at 0x7f75b7831da0>"
      ]
     },
     "metadata": {},
     "output_type": "display_data"
    }
   ],
   "source": [
    "plt.figure(figsize=(15,5))\n",
    "x_axis_data = data_Unjung['dateTime']\n",
    "y_axis_data = data_Unjung['PM25_1HR']\n",
    "plt.plot(x_axis_data,y_axis_data,'ko')\n",
    "plt.title('Unjung Station Official PM2.5 Measurement Data')\n",
    "plt.xlabel('date');plt.ylabel('Unjung Data($\\mu$g/m$^3$)');plt.grid();"
   ]
  },
  {
   "cell_type": "markdown",
   "metadata": {
    "collapsed": true
   },
   "source": [
    "### Merge Sharp PM2.5 sensor data and Unjung station data\n",
    "Merge data_frame1 with data_frame2 with 'dateTime' as a referece for merging. Then create a new combined csv file for regression analysis."
   ]
  },
  {
   "cell_type": "code",
   "execution_count": 24,
   "metadata": {
    "collapsed": false
   },
   "outputs": [],
   "source": [
    "dataframe1 = dataframe_total # Sharp measurements\n",
    "dataframe2 = data_Unjung # Unjung official data micro-gram/m^3\n",
    "dataframe_total = pd.merge(dataframe1,dataframe2,on='dateTime', how='left')\n",
    "dataframe_total.dropna();"
   ]
  },
  {
   "cell_type": "markdown",
   "metadata": {},
   "source": [
    "#### Preprocess Pandas DataFrame and Write DataFrame into csv file.\n",
    " - remove unavailable data from measurement station data\n",
    " - change column name into meta data format(temperature,humidity,Sharp measured voltage[mv] ,measurement of certified station)\n",
    " - subtract Sharp measurement mean-voltage from original measurement data"
   ]
  },
  {
   "cell_type": "code",
   "execution_count": 25,
   "metadata": {
    "collapsed": false
   },
   "outputs": [],
   "source": [
    "# remove unavailable data\n",
    "dataframe_total.dropna(inplace=True)\n",
    "\n",
    "# change column name into meta data format\n",
    "dataframe_total.columns = ['dateTime', 'temperature','humidity', \\\n",
    "                           'Sharp measured voltage[mv]','measurement of certified station']\n",
    "\n",
    "# subtract DC offset\n",
    "DC_Offset = 380\n",
    "dataframe_total['Sharp measured voltage[mv]'] -=  DC_Offset\n",
    "\n",
    "# write csv file\n",
    "file_name_for_csv = 'SharpUnjung.csv'\n",
    "dataframe_total.to_csv(file_name_for_csv, sep=',')"
   ]
  },
  {
   "cell_type": "code",
   "execution_count": 26,
   "metadata": {
    "collapsed": false
   },
   "outputs": [
    {
     "data": {
      "text/html": [
       "<div>\n",
       "<table border=\"1\" class=\"dataframe\">\n",
       "  <thead>\n",
       "    <tr style=\"text-align: right;\">\n",
       "      <th></th>\n",
       "      <th>dateTime</th>\n",
       "      <th>temperature</th>\n",
       "      <th>humidity</th>\n",
       "      <th>Sharp measured voltage[mv]</th>\n",
       "      <th>measurement of certified station</th>\n",
       "    </tr>\n",
       "  </thead>\n",
       "  <tbody>\n",
       "    <tr>\n",
       "      <th>0</th>\n",
       "      <td>2017-05-16 17:00:00</td>\n",
       "      <td>24.750000</td>\n",
       "      <td>42.400000</td>\n",
       "      <td>45.000000</td>\n",
       "      <td>18.0</td>\n",
       "    </tr>\n",
       "    <tr>\n",
       "      <th>1</th>\n",
       "      <td>2017-05-16 18:00:00</td>\n",
       "      <td>24.043333</td>\n",
       "      <td>46.708333</td>\n",
       "      <td>37.716667</td>\n",
       "      <td>18.0</td>\n",
       "    </tr>\n",
       "    <tr>\n",
       "      <th>2</th>\n",
       "      <td>2017-05-16 19:00:00</td>\n",
       "      <td>23.630000</td>\n",
       "      <td>46.618333</td>\n",
       "      <td>32.300000</td>\n",
       "      <td>9.0</td>\n",
       "    </tr>\n",
       "    <tr>\n",
       "      <th>3</th>\n",
       "      <td>2017-05-16 20:00:00</td>\n",
       "      <td>23.101667</td>\n",
       "      <td>46.231667</td>\n",
       "      <td>32.266667</td>\n",
       "      <td>17.0</td>\n",
       "    </tr>\n",
       "    <tr>\n",
       "      <th>4</th>\n",
       "      <td>2017-05-16 21:00:00</td>\n",
       "      <td>22.761667</td>\n",
       "      <td>43.905000</td>\n",
       "      <td>28.516667</td>\n",
       "      <td>16.0</td>\n",
       "    </tr>\n",
       "  </tbody>\n",
       "</table>\n",
       "</div>"
      ],
      "text/plain": [
       "             dateTime  temperature   humidity  Sharp measured voltage[mv]  \\\n",
       "0 2017-05-16 17:00:00    24.750000  42.400000                   45.000000   \n",
       "1 2017-05-16 18:00:00    24.043333  46.708333                   37.716667   \n",
       "2 2017-05-16 19:00:00    23.630000  46.618333                   32.300000   \n",
       "3 2017-05-16 20:00:00    23.101667  46.231667                   32.266667   \n",
       "4 2017-05-16 21:00:00    22.761667  43.905000                   28.516667   \n",
       "\n",
       "   measurement of certified station  \n",
       "0                              18.0  \n",
       "1                              18.0  \n",
       "2                               9.0  \n",
       "3                              17.0  \n",
       "4                              16.0  "
      ]
     },
     "execution_count": 26,
     "metadata": {},
     "output_type": "execute_result"
    }
   ],
   "source": [
    "dataframe_total.head(5)"
   ]
  },
  {
   "cell_type": "markdown",
   "metadata": {},
   "source": [
    "### Plot with different y-axis scales"
   ]
  },
  {
   "cell_type": "code",
   "execution_count": 27,
   "metadata": {
    "collapsed": false,
    "scrolled": true
   },
   "outputs": [
    {
     "data": {
      "image/png": "[encoded data removed]",
      "text/plain": [
       "<matplotlib.figure.Figure at 0x7f75b762b3c8>"
      ]
     },
     "metadata": {},
     "output_type": "display_data"
    }
   ],
   "source": [
    "fig, ax1 = plt.subplots(figsize=(10,5))\n",
    "ax1.plot(dataframe_total['dateTime'],dataframe_total['Sharp measured voltage[mv]'], 'bs',label='Sharp PM2.5')\n",
    "ax1.set_xlabel('date')\n",
    "# Make the y-axis label, ticks and tick labels match the line color.\n",
    "ax1.set_ylabel('voltage(mv)', color='b')\n",
    "ax1.tick_params('y', colors='b')\n",
    "ax1.legend(bbox_to_anchor=(1.05, 0.9), loc=2, borderaxespad=0.)\n",
    "ax2 = ax1.twinx()\n",
    "ax2.plot(dataframe_total['dateTime'],dataframe_total['measurement of certified station'], 'ro',label='Unjung Station')\n",
    "ax2.set_ylabel('$u$gram/m$^3$', color='r')\n",
    "ax2.tick_params('y', colors='r')\n",
    "ax2.legend(bbox_to_anchor=(1.05, 1), loc=2, borderaxespad=0.)\n",
    "plt.title('Sharp PM25 data and Unjung Measurement Station Data')\n",
    "fig.tight_layout()\n",
    "plt.show()"
   ]
  },
  {
   "cell_type": "markdown",
   "metadata": {},
   "source": [
    "#### Regression"
   ]
  },
  {
   "cell_type": "code",
   "execution_count": 28,
   "metadata": {
    "collapsed": false
   },
   "outputs": [
    {
     "name": "stdout",
     "output_type": "stream",
     "text": [
      "R^2: 0.113762804464\n"
     ]
    },
    {
     "data": {
      "image/png": "[encoded data removed]",
      "text/plain": [
       "<matplotlib.figure.Figure at 0x7f75b78ef748>"
      ]
     },
     "metadata": {},
     "output_type": "display_data"
    }
   ],
   "source": [
    "from sklearn.linear_model import LinearRegression\n",
    "\n",
    "xx=dataframe_total['Sharp measured voltage[mv]']\n",
    "yy=dataframe_total['measurement of certified station']\n",
    "plt.plot(xx,yy,'bo')\n",
    "plt.xlabel('Sharp voltage[mv]')\n",
    "plt.ylabel('measurement station [micro-gram/m^3]')\n",
    "\n",
    "#reshape single feature\n",
    "xx = xx.values.reshape(-1,1)\n",
    "regression_model = LinearRegression()\n",
    "regression_model.fit(xx,yy)\n",
    "R2t = regression_model.score(xx,yy)\n",
    "print('R^2:',R2t)"
   ]
  },
  {
   "cell_type": "code",
   "execution_count": null,
   "metadata": {
    "collapsed": true
   },
   "outputs": [],
   "source": []
  }
 ],
 "metadata": {
  "kernelspec": {
   "display_name": "Python 3",
   "language": "python",
   "name": "python3"
  },
  "language_info": {
   "codemirror_mode": {
    "name": "ipython",
    "version": 3
   },
   "file_extension": ".py",
   "mimetype": "text/x-python",
   "name": "python",
   "nbconvert_exporter": "python",
   "pygments_lexer": "ipython3",
   "version": "3.6.0"
  },
  "toc": {
   "base_numbering": 1,
   "nav_menu": {},
   "number_sections": true,
   "sideBar": true,
   "skip_h1_title": false,
   "title_cell": "Table of Contents",
   "title_sidebar": "Contents",
   "toc_cell": false,
   "toc_position": {},
   "toc_section_display": true,
   "toc_window_display": false
  },
  "varInspector": {
   "cols": {
    "lenName": 16,
    "lenType": 16,
    "lenVar": 40
   },
   "kernels_config": {
    "python": {
     "delete_cmd_postfix": "",
     "delete_cmd_prefix": "del ",
     "library": "var_list.py",
     "varRefreshCmd": "print(var_dic_list())"
    },
    "r": {
     "delete_cmd_postfix": ") ",
     "delete_cmd_prefix": "rm(",
     "library": "var_list.r",
     "varRefreshCmd": "cat(var_dic_list()) "
    }
   },
   "types_to_exclude": [
    "module",
    "function",
    "builtin_function_or_method",
    "instance",
    "_Feature"
   ],
   "window_display": false
  }
 },
 "nbformat": 4,
 "nbformat_minor": 2
}
